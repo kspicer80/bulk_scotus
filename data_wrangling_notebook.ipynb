{
 "cells": [
  {
   "cell_type": "code",
   "execution_count": 124,
   "metadata": {},
   "outputs": [],
   "source": [
    "import json\n",
    "import os\n",
    "import re\n",
    "from pathlib import Path\n",
    "import pandas as pd\n",
    "from bs4 import BeautifulSoup\n",
    "from tqdm._tqdm_notebook import tqdm_notebook\n",
    "tqdm_notebook.pandas()\n",
    "import html as ihtml"
   ]
  },
  {
   "cell_type": "code",
   "execution_count": 97,
   "metadata": {},
   "outputs": [],
   "source": [
    "def read_jsons_into_dataframe(directory):\n",
    "    temp_list_of_dfs = []\n",
    "    directory = directory\n",
    "    pathlist = Path(directory).rglob('*.json')\n",
    "    for path in pathlist:\n",
    "        with open(path) as f:\n",
    "            json_data = pd.json_normalize(json.loads(f.read()))\n",
    "        temp_list_of_dfs.append(json_data)\n",
    "    combined_df = pd.concat(temp_list_of_dfs, ignore_index=True)\n",
    "    return(combined_df)"
   ]
  },
  {
   "cell_type": "code",
   "execution_count": 99,
   "metadata": {},
   "outputs": [],
   "source": [
    "df_1700s = read_jsons_into_dataframe('1700s')\n",
    "df_1800s = read_jsons_into_dataframe('1800s')\n",
    "df_1900s = read_jsons_into_dataframe('1900s')\n",
    "df_2000s = read_jsons_into_dataframe('2000s')"
   ]
  },
  {
   "cell_type": "code",
   "execution_count": 100,
   "metadata": {},
   "outputs": [],
   "source": [
    "df_1700s['label'] = 1700\n",
    "df_1800s['label'] = 1800\n",
    "df_1900s['label'] = 1900\n",
    "df_2000s['label'] = 2000"
   ]
  },
  {
   "cell_type": "code",
   "execution_count": 101,
   "metadata": {},
   "outputs": [
    {
     "name": "stdout",
     "output_type": "stream",
     "text": [
      "Index(['date_blocked', 'id', 'blocked', 'judges', 'court', 'date_filed',\n",
      "       'download_url', 'source', 'local_path', 'html_lawbox', 'time_retrieved',\n",
      "       'nature_of_suit', 'plain_text', 'html_with_citations', 'sha1',\n",
      "       'date_modified', 'precedential_status', 'extracted_by_ocr',\n",
      "       'citation_count', 'absolute_url', 'docket', 'html', 'resource_uri',\n",
      "       'citation.state_cite_three', 'citation.federal_cite_two',\n",
      "       'citation.resource_uri', 'citation.federal_cite_three',\n",
      "       'citation.lexis_cite', 'citation.document_uris',\n",
      "       'citation.scotus_early_cite', 'citation.federal_cite_one',\n",
      "       'citation.case_name', 'citation.westlaw_cite',\n",
      "       'citation.state_cite_one', 'citation.specialty_cite_one',\n",
      "       'citation.state_cite_regional', 'citation.id', 'citation.docket_number',\n",
      "       'citation.state_cite_two', 'citation.neutral_cite',\n",
      "       'supreme_court_db_id', 'label'],\n",
      "      dtype='object')\n"
     ]
    }
   ],
   "source": [
    "merged_df = pd.concat([df_1700s, df_1800s, df_1900s, df_2000s])\n",
    "print(merged_df.columns)"
   ]
  },
  {
   "cell_type": "code",
   "execution_count": 102,
   "metadata": {},
   "outputs": [
    {
     "name": "stdout",
     "output_type": "stream",
     "text": [
      "(63374, 5)\n",
      "(61314, 5)\n"
     ]
    }
   ],
   "source": [
    "import numpy as np\n",
    "merged_df_of_interest = merged_df[['date_filed', 'plain_text', 'html', 'html_with_citations', 'label']]\n",
    "merged_df_of_interest = merged_df_of_interest.replace(r'^\\s*$', np.nan, regex=True)\n",
    "print(merged_df_of_interest.shape)\n",
    "merged_df_of_interest = merged_df_of_interest.dropna(subset=['plain_text', 'html', 'html_with_citations'], how='all')\n",
    "print(merged_df_of_interest.shape)\n",
    "#filter = merged_df_of_interest['html'] != ''\n",
    "#filtered_df = df[filter]\n",
    "#filtered_df = filtered_df.dropna()"
   ]
  },
  {
   "cell_type": "code",
   "execution_count": 103,
   "metadata": {},
   "outputs": [
    {
     "name": "stdout",
     "output_type": "stream",
     "text": [
      "1427\n"
     ]
    }
   ],
   "source": [
    "print(merged_df_of_interest['html'].isna().sum())"
   ]
  },
  {
   "cell_type": "code",
   "execution_count": 116,
   "metadata": {},
   "outputs": [],
   "source": [
    "def clean_html_text(html_text):\n",
    "    if html_text == '':\n",
    "        pass \n",
    "    else:\n",
    "        cleaned_text = BeautifulSoup(html_text, 'lxml').get_text()\n",
    "    return(cleaned_text)"
   ]
  },
  {
   "cell_type": "code",
   "execution_count": 125,
   "metadata": {},
   "outputs": [],
   "source": [
    "def clean_text(html_text):\n",
    "    if html_text == '':\n",
    "        pass\n",
    "    else:\n",
    "        text = BeautifulSoup(ihtml.unescape(html_text), \"lxml\").text\n",
    "        text = re.sub(r\"http[s]?://\\S+\", \"\", html_text)\n",
    "        text = re.sub(r\"\\s+\", \" \", html_text)\n",
    "    return text"
   ]
  },
  {
   "cell_type": "code",
   "execution_count": 129,
   "metadata": {},
   "outputs": [],
   "source": [
    "def strip_html(html):\n",
    "    if html == '':\n",
    "        pass\n",
    "    else:\n",
    "        soup = BeautifulSoup(html, \"html.parser\")\n",
    "        for data in soup(['style', 'script', 'code', 'a']):\n",
    "            data.decompose()\n",
    "    return ' '.join(soup.stripped_strings)"
   ]
  },
  {
   "cell_type": "code",
   "execution_count": 130,
   "metadata": {},
   "outputs": [
    {
     "name": "stdout",
     "output_type": "stream",
     "text": [
      "<class 'pandas.core.frame.DataFrame'>\n",
      "Int64Index: 61314 entries, 1 to 28383\n",
      "Data columns (total 5 columns):\n",
      " #   Column               Non-Null Count  Dtype \n",
      "---  ------               --------------  ----- \n",
      " 0   date_filed           61314 non-null  object\n",
      " 1   plain_text           984 non-null    object\n",
      " 2   html                 59887 non-null  object\n",
      " 3   html_with_citations  61268 non-null  object\n",
      " 4   label                61314 non-null  int64 \n",
      "dtypes: int64(1), object(4)\n",
      "memory usage: 2.8+ MB\n",
      "None\n"
     ]
    }
   ],
   "source": [
    "m_df = merged_df_of_interest.copy()\n",
    "#m_df.head()\n",
    "print(m_df.info())"
   ]
  },
  {
   "cell_type": "code",
   "execution_count": 131,
   "metadata": {},
   "outputs": [
    {
     "data": {
      "text/html": [
       "<div>\n",
       "<style scoped>\n",
       "    .dataframe tbody tr th:only-of-type {\n",
       "        vertical-align: middle;\n",
       "    }\n",
       "\n",
       "    .dataframe tbody tr th {\n",
       "        vertical-align: top;\n",
       "    }\n",
       "\n",
       "    .dataframe thead th {\n",
       "        text-align: right;\n",
       "    }\n",
       "</style>\n",
       "<table border=\"1\" class=\"dataframe\">\n",
       "  <thead>\n",
       "    <tr style=\"text-align: right;\">\n",
       "      <th></th>\n",
       "      <th>date_filed</th>\n",
       "      <th>plain_text</th>\n",
       "      <th>html</th>\n",
       "      <th>html_with_citations</th>\n",
       "      <th>label</th>\n",
       "    </tr>\n",
       "  </thead>\n",
       "  <tbody>\n",
       "    <tr>\n",
       "      <th>1</th>\n",
       "      <td>1773-09-01</td>\n",
       "      <td>NaN</td>\n",
       "      <td>&lt;p class=\"case_cite\"&gt;1 U.S. 20&lt;/p&gt;\\r\\n    &lt;p c...</td>\n",
       "      <td>&lt;p class=\"case_cite\"&gt;&lt;span class=\"citation no-...</td>\n",
       "      <td>1700</td>\n",
       "    </tr>\n",
       "    <tr>\n",
       "      <th>2</th>\n",
       "      <td>1773-04-01</td>\n",
       "      <td>NaN</td>\n",
       "      <td>&lt;p class=\"case_cite\"&gt;1 U.S. 18&lt;/p&gt;\\r\\n    &lt;p c...</td>\n",
       "      <td>&lt;p class=\"case_cite\"&gt;&lt;span class=\"citation no-...</td>\n",
       "      <td>1700</td>\n",
       "    </tr>\n",
       "    <tr>\n",
       "      <th>3</th>\n",
       "      <td>1787-06-01</td>\n",
       "      <td>NaN</td>\n",
       "      <td>&lt;p class=\"case_cite\"&gt;1 U.S. 194&lt;/p&gt;\\n    &lt;p cl...</td>\n",
       "      <td>&lt;div&gt;\\n&lt;center&gt;&lt;b&gt;&lt;span class=\"citation no-lin...</td>\n",
       "      <td>1700</td>\n",
       "    </tr>\n",
       "    <tr>\n",
       "      <th>4</th>\n",
       "      <td>1787-09-01</td>\n",
       "      <td>NaN</td>\n",
       "      <td>&lt;p class=\"case_cite\"&gt;1 U.S. 210&lt;/p&gt;\\r\\n    &lt;p ...</td>\n",
       "      <td>&lt;div&gt;\\n&lt;center&gt;&lt;b&gt;&lt;span class=\"citation no-lin...</td>\n",
       "      <td>1700</td>\n",
       "    </tr>\n",
       "    <tr>\n",
       "      <th>5</th>\n",
       "      <td>1787-04-01</td>\n",
       "      <td>NaN</td>\n",
       "      <td>&lt;p class=\"case_cite\"&gt;2 U.S. 97&lt;/p&gt;\\n    &lt;p cla...</td>\n",
       "      <td>&lt;p class=\"case_cite\"&gt;&lt;span class=\"citation no-...</td>\n",
       "      <td>1700</td>\n",
       "    </tr>\n",
       "  </tbody>\n",
       "</table>\n",
       "</div>"
      ],
      "text/plain": [
       "   date_filed plain_text                                               html  \\\n",
       "1  1773-09-01        NaN  <p class=\"case_cite\">1 U.S. 20</p>\\r\\n    <p c...   \n",
       "2  1773-04-01        NaN  <p class=\"case_cite\">1 U.S. 18</p>\\r\\n    <p c...   \n",
       "3  1787-06-01        NaN  <p class=\"case_cite\">1 U.S. 194</p>\\n    <p cl...   \n",
       "4  1787-09-01        NaN  <p class=\"case_cite\">1 U.S. 210</p>\\r\\n    <p ...   \n",
       "5  1787-04-01        NaN  <p class=\"case_cite\">2 U.S. 97</p>\\n    <p cla...   \n",
       "\n",
       "                                 html_with_citations  label  \n",
       "1  <p class=\"case_cite\"><span class=\"citation no-...   1700  \n",
       "2  <p class=\"case_cite\"><span class=\"citation no-...   1700  \n",
       "3  <div>\\n<center><b><span class=\"citation no-lin...   1700  \n",
       "4  <div>\\n<center><b><span class=\"citation no-lin...   1700  \n",
       "5  <p class=\"case_cite\"><span class=\"citation no-...   1700  "
      ]
     },
     "execution_count": 131,
     "metadata": {},
     "output_type": "execute_result"
    }
   ],
   "source": [
    "m_df.head()"
   ]
  },
  {
   "cell_type": "code",
   "execution_count": 135,
   "metadata": {},
   "outputs": [],
   "source": [
    "def html_parser(raw_html):\n",
    "    raw_html = str(raw_html)\n",
    "    soup = BeautifulSoup(raw_html, 'html.parser')\n",
    "    soup_string = soup.get_text()\n",
    "    soup_string = re.sub('<.*>', ' ', soup_string)\n",
    "    return soup_string"
   ]
  },
  {
   "cell_type": "code",
   "execution_count": 137,
   "metadata": {},
   "outputs": [
    {
     "data": {
      "application/vnd.jupyter.widget-view+json": {
       "model_id": "567dc0c9555443d0824092b733b8085e",
       "version_major": 2,
       "version_minor": 0
      },
      "text/plain": [
       "  0%|          | 0/61314 [00:00<?, ?it/s]"
      ]
     },
     "metadata": {},
     "output_type": "display_data"
    }
   ],
   "source": [
    "m_df['cleaned_text'] = m_df['html_with_citations'].progress_apply(lambda x: html_parser(x) if x != '' else x)"
   ]
  },
  {
   "cell_type": "code",
   "execution_count": null,
   "metadata": {},
   "outputs": [],
   "source": [
    "m_df.to_json('/Users/kspicer/Desktop/spacy_textcat/cleaned_dataframe.jsonl', orient='records', lines=True)"
   ]
  },
  {
   "cell_type": "code",
   "execution_count": null,
   "metadata": {},
   "outputs": [],
   "source": [
    "#_df = merged_df_of_interest.copy()\n",
    "#mask = (m_df['plain_text'] != '') & (m_df['html'] != '') & (m_df['html_with_citations'] != '')"
   ]
  },
  {
   "cell_type": "code",
   "execution_count": null,
   "metadata": {},
   "outputs": [
    {
     "ename": "KeyError",
     "evalue": "\"['date_filed' 'plain_text' 'html' 'html_with_citations' 'label'] not found in axis\"",
     "output_type": "error",
     "traceback": [
      "\u001b[0;31m---------------------------------------------------------------------------\u001b[0m",
      "\u001b[0;31mKeyError\u001b[0m                                  Traceback (most recent call last)",
      "\u001b[1;32m/Users/kspicer/Documents/GitHub/ussc_text_classification/data_wrangling_notebook.ipynb Cell 10\u001b[0m in \u001b[0;36m<cell line: 1>\u001b[0;34m()\u001b[0m\n\u001b[0;32m----> <a href='vscode-notebook-cell:/Users/kspicer/Documents/GitHub/ussc_text_classification/data_wrangling_notebook.ipynb#X54sZmlsZQ%3D%3D?line=0'>1</a>\u001b[0m merged_df_of_interest\u001b[39m.\u001b[39;49mdrop(\n\u001b[1;32m      <a href='vscode-notebook-cell:/Users/kspicer/Documents/GitHub/ussc_text_classification/data_wrangling_notebook.ipynb#X54sZmlsZQ%3D%3D?line=1'>2</a>\u001b[0m     merged_df_of_interest\n\u001b[1;32m      <a href='vscode-notebook-cell:/Users/kspicer/Documents/GitHub/ussc_text_classification/data_wrangling_notebook.ipynb#X54sZmlsZQ%3D%3D?line=2'>3</a>\u001b[0m         [(merged_df_of_interest\u001b[39m.\u001b[39;49mhtml \u001b[39m==\u001b[39;49m \u001b[39m'\u001b[39;49m\u001b[39m'\u001b[39;49m) \u001b[39m&\u001b[39;49m \n\u001b[1;32m      <a href='vscode-notebook-cell:/Users/kspicer/Documents/GitHub/ussc_text_classification/data_wrangling_notebook.ipynb#X54sZmlsZQ%3D%3D?line=3'>4</a>\u001b[0m         (merged_df_of_interest\u001b[39m.\u001b[39;49mplain_text \u001b[39m==\u001b[39;49m \u001b[39m'\u001b[39;49m\u001b[39m'\u001b[39;49m) \u001b[39m&\u001b[39;49m (merged_df_of_interest\u001b[39m.\u001b[39;49mhtml_with_citations \u001b[39m==\u001b[39;49m \u001b[39m'\u001b[39;49m\u001b[39m'\u001b[39;49m)])\n",
      "File \u001b[0;32m~/opt/anaconda3/lib/python3.9/site-packages/pandas/util/_decorators.py:311\u001b[0m, in \u001b[0;36mdeprecate_nonkeyword_arguments.<locals>.decorate.<locals>.wrapper\u001b[0;34m(*args, **kwargs)\u001b[0m\n\u001b[1;32m    305\u001b[0m \u001b[39mif\u001b[39;00m \u001b[39mlen\u001b[39m(args) \u001b[39m>\u001b[39m num_allow_args:\n\u001b[1;32m    306\u001b[0m     warnings\u001b[39m.\u001b[39mwarn(\n\u001b[1;32m    307\u001b[0m         msg\u001b[39m.\u001b[39mformat(arguments\u001b[39m=\u001b[39marguments),\n\u001b[1;32m    308\u001b[0m         \u001b[39mFutureWarning\u001b[39;00m,\n\u001b[1;32m    309\u001b[0m         stacklevel\u001b[39m=\u001b[39mstacklevel,\n\u001b[1;32m    310\u001b[0m     )\n\u001b[0;32m--> 311\u001b[0m \u001b[39mreturn\u001b[39;00m func(\u001b[39m*\u001b[39;49margs, \u001b[39m*\u001b[39;49m\u001b[39m*\u001b[39;49mkwargs)\n",
      "File \u001b[0;32m~/opt/anaconda3/lib/python3.9/site-packages/pandas/core/frame.py:4954\u001b[0m, in \u001b[0;36mDataFrame.drop\u001b[0;34m(self, labels, axis, index, columns, level, inplace, errors)\u001b[0m\n\u001b[1;32m   4806\u001b[0m \u001b[39m@deprecate_nonkeyword_arguments\u001b[39m(version\u001b[39m=\u001b[39m\u001b[39mNone\u001b[39;00m, allowed_args\u001b[39m=\u001b[39m[\u001b[39m\"\u001b[39m\u001b[39mself\u001b[39m\u001b[39m\"\u001b[39m, \u001b[39m\"\u001b[39m\u001b[39mlabels\u001b[39m\u001b[39m\"\u001b[39m])\n\u001b[1;32m   4807\u001b[0m \u001b[39mdef\u001b[39;00m \u001b[39mdrop\u001b[39m(\n\u001b[1;32m   4808\u001b[0m     \u001b[39mself\u001b[39m,\n\u001b[0;32m   (...)\u001b[0m\n\u001b[1;32m   4815\u001b[0m     errors: \u001b[39mstr\u001b[39m \u001b[39m=\u001b[39m \u001b[39m\"\u001b[39m\u001b[39mraise\u001b[39m\u001b[39m\"\u001b[39m,\n\u001b[1;32m   4816\u001b[0m ):\n\u001b[1;32m   4817\u001b[0m     \u001b[39m\"\"\"\u001b[39;00m\n\u001b[1;32m   4818\u001b[0m \u001b[39m    Drop specified labels from rows or columns.\u001b[39;00m\n\u001b[1;32m   4819\u001b[0m \n\u001b[0;32m   (...)\u001b[0m\n\u001b[1;32m   4952\u001b[0m \u001b[39m            weight  1.0     0.8\u001b[39;00m\n\u001b[1;32m   4953\u001b[0m \u001b[39m    \"\"\"\u001b[39;00m\n\u001b[0;32m-> 4954\u001b[0m     \u001b[39mreturn\u001b[39;00m \u001b[39msuper\u001b[39;49m()\u001b[39m.\u001b[39;49mdrop(\n\u001b[1;32m   4955\u001b[0m         labels\u001b[39m=\u001b[39;49mlabels,\n\u001b[1;32m   4956\u001b[0m         axis\u001b[39m=\u001b[39;49maxis,\n\u001b[1;32m   4957\u001b[0m         index\u001b[39m=\u001b[39;49mindex,\n\u001b[1;32m   4958\u001b[0m         columns\u001b[39m=\u001b[39;49mcolumns,\n\u001b[1;32m   4959\u001b[0m         level\u001b[39m=\u001b[39;49mlevel,\n\u001b[1;32m   4960\u001b[0m         inplace\u001b[39m=\u001b[39;49minplace,\n\u001b[1;32m   4961\u001b[0m         errors\u001b[39m=\u001b[39;49merrors,\n\u001b[1;32m   4962\u001b[0m     )\n",
      "File \u001b[0;32m~/opt/anaconda3/lib/python3.9/site-packages/pandas/core/generic.py:4267\u001b[0m, in \u001b[0;36mNDFrame.drop\u001b[0;34m(self, labels, axis, index, columns, level, inplace, errors)\u001b[0m\n\u001b[1;32m   4265\u001b[0m \u001b[39mfor\u001b[39;00m axis, labels \u001b[39min\u001b[39;00m axes\u001b[39m.\u001b[39mitems():\n\u001b[1;32m   4266\u001b[0m     \u001b[39mif\u001b[39;00m labels \u001b[39mis\u001b[39;00m \u001b[39mnot\u001b[39;00m \u001b[39mNone\u001b[39;00m:\n\u001b[0;32m-> 4267\u001b[0m         obj \u001b[39m=\u001b[39m obj\u001b[39m.\u001b[39;49m_drop_axis(labels, axis, level\u001b[39m=\u001b[39;49mlevel, errors\u001b[39m=\u001b[39;49merrors)\n\u001b[1;32m   4269\u001b[0m \u001b[39mif\u001b[39;00m inplace:\n\u001b[1;32m   4270\u001b[0m     \u001b[39mself\u001b[39m\u001b[39m.\u001b[39m_update_inplace(obj)\n",
      "File \u001b[0;32m~/opt/anaconda3/lib/python3.9/site-packages/pandas/core/generic.py:4340\u001b[0m, in \u001b[0;36mNDFrame._drop_axis\u001b[0;34m(self, labels, axis, level, errors, consolidate, only_slice)\u001b[0m\n\u001b[1;32m   4338\u001b[0m     labels_missing \u001b[39m=\u001b[39m (axis\u001b[39m.\u001b[39mget_indexer_for(labels) \u001b[39m==\u001b[39m \u001b[39m-\u001b[39m\u001b[39m1\u001b[39m)\u001b[39m.\u001b[39many()\n\u001b[1;32m   4339\u001b[0m     \u001b[39mif\u001b[39;00m errors \u001b[39m==\u001b[39m \u001b[39m\"\u001b[39m\u001b[39mraise\u001b[39m\u001b[39m\"\u001b[39m \u001b[39mand\u001b[39;00m labels_missing:\n\u001b[0;32m-> 4340\u001b[0m         \u001b[39mraise\u001b[39;00m \u001b[39mKeyError\u001b[39;00m(\u001b[39mf\u001b[39m\u001b[39m\"\u001b[39m\u001b[39m{\u001b[39;00mlabels\u001b[39m}\u001b[39;00m\u001b[39m not found in axis\u001b[39m\u001b[39m\"\u001b[39m)\n\u001b[1;32m   4342\u001b[0m \u001b[39mif\u001b[39;00m is_extension_array_dtype(mask\u001b[39m.\u001b[39mdtype):\n\u001b[1;32m   4343\u001b[0m     \u001b[39m# GH#45860\u001b[39;00m\n\u001b[1;32m   4344\u001b[0m     mask \u001b[39m=\u001b[39m mask\u001b[39m.\u001b[39mto_numpy(dtype\u001b[39m=\u001b[39m\u001b[39mbool\u001b[39m)\n",
      "\u001b[0;31mKeyError\u001b[0m: \"['date_filed' 'plain_text' 'html' 'html_with_citations' 'label'] not found in axis\""
     ]
    }
   ],
   "source": [
    "#training_df = merged_df_of_interest[(merged_df_of_interest['plain_text'] != '') |\n",
    "                        (merged_df_of_interest['html'] != '') | merged_df['html_with_citations'] "
   ]
  },
  {
   "cell_type": "code",
   "execution_count": null,
   "metadata": {},
   "outputs": [],
   "source": [
    "merged_df_of_interest.to_json('/Users/kspicer/Desktop/spacy_textcat/cleaned_dataframe.jsonl', orient='records', lines=True)"
   ]
  },
  {
   "cell_type": "code",
   "execution_count": null,
   "metadata": {},
   "outputs": [
    {
     "data": {
      "text/plain": [
       "date_filed             1773-09-01\n",
       "plain_text                       \n",
       "html                             \n",
       "html_with_citations              \n",
       "label                        1700\n",
       "Name: 0, dtype: object"
      ]
     },
     "execution_count": 37,
     "metadata": {},
     "output_type": "execute_result"
    }
   ],
   "source": [
    "merged_df_of_interest.iloc[0]"
   ]
  },
  {
   "cell_type": "code",
   "execution_count": null,
   "metadata": {},
   "outputs": [
    {
     "name": "stderr",
     "output_type": "stream",
     "text": [
      "/var/folders/jt/_w07f41j0zz__hb4jz9bz0vh0000gp/T/ipykernel_44520/1343133270.py:1: TqdmDeprecationWarning: This function will be removed in tqdm==5.0.0\n",
      "Please use `tqdm.notebook.*` instead of `tqdm._tqdm_notebook.*`\n",
      "  from tqdm._tqdm_notebook import tqdm_notebook\n"
     ]
    },
    {
     "data": {
      "application/vnd.jupyter.widget-view+json": {
       "model_id": "4c01e67331ec4f2ca0501766c1746184",
       "version_major": 2,
       "version_minor": 0
      },
      "text/plain": [
       "  0%|          | 0/63374 [00:00<?, ?it/s]"
      ]
     },
     "metadata": {},
     "output_type": "display_data"
    },
    {
     "ename": "TypeError",
     "evalue": "argument of type 'NoneType' is not iterable",
     "output_type": "error",
     "traceback": [
      "\u001b[0;31m---------------------------------------------------------------------------\u001b[0m",
      "\u001b[0;31mTypeError\u001b[0m                                 Traceback (most recent call last)",
      "\u001b[1;32m/Users/kspicer/Documents/GitHub/ussc_text_classification/data_wrangling_notebook.ipynb Cell 8\u001b[0m in \u001b[0;36m<cell line: 4>\u001b[0;34m()\u001b[0m\n\u001b[1;32m      <a href='vscode-notebook-cell:/Users/kspicer/Documents/GitHub/ussc_text_classification/data_wrangling_notebook.ipynb#X34sZmlsZQ%3D%3D?line=0'>1</a>\u001b[0m \u001b[39mfrom\u001b[39;00m \u001b[39mtqdm\u001b[39;00m\u001b[39m.\u001b[39;00m\u001b[39m_tqdm_notebook\u001b[39;00m \u001b[39mimport\u001b[39;00m tqdm_notebook\n\u001b[1;32m      <a href='vscode-notebook-cell:/Users/kspicer/Documents/GitHub/ussc_text_classification/data_wrangling_notebook.ipynb#X34sZmlsZQ%3D%3D?line=1'>2</a>\u001b[0m tqdm_notebook\u001b[39m.\u001b[39mpandas()\n\u001b[0;32m----> <a href='vscode-notebook-cell:/Users/kspicer/Documents/GitHub/ussc_text_classification/data_wrangling_notebook.ipynb#X34sZmlsZQ%3D%3D?line=3'>4</a>\u001b[0m merged_df_of_interest[\u001b[39m'\u001b[39m\u001b[39mcleaned_html\u001b[39m\u001b[39m'\u001b[39m] \u001b[39m=\u001b[39m merged_df_of_interest[\u001b[39m'\u001b[39;49m\u001b[39mhtml\u001b[39;49m\u001b[39m'\u001b[39;49m]\u001b[39m.\u001b[39;49mprogress_apply(\u001b[39mlambda\u001b[39;49;00m x: clean_text(x) \u001b[39mif\u001b[39;49;00m x\u001b[39m!=\u001b[39;49m \u001b[39m'\u001b[39;49m\u001b[39m'\u001b[39;49m \u001b[39melse\u001b[39;49;00m x)\n",
      "File \u001b[0;32m~/opt/anaconda3/lib/python3.9/site-packages/tqdm/std.py:814\u001b[0m, in \u001b[0;36mtqdm.pandas.<locals>.inner_generator.<locals>.inner\u001b[0;34m(df, func, *args, **kwargs)\u001b[0m\n\u001b[1;32m    811\u001b[0m \u001b[39m# Apply the provided function (in **kwargs)\u001b[39;00m\n\u001b[1;32m    812\u001b[0m \u001b[39m# on the df using our wrapper (which provides bar updating)\u001b[39;00m\n\u001b[1;32m    813\u001b[0m \u001b[39mtry\u001b[39;00m:\n\u001b[0;32m--> 814\u001b[0m     \u001b[39mreturn\u001b[39;00m \u001b[39mgetattr\u001b[39;49m(df, df_function)(wrapper, \u001b[39m*\u001b[39;49m\u001b[39m*\u001b[39;49mkwargs)\n\u001b[1;32m    815\u001b[0m \u001b[39mfinally\u001b[39;00m:\n\u001b[1;32m    816\u001b[0m     t\u001b[39m.\u001b[39mclose()\n",
      "File \u001b[0;32m~/opt/anaconda3/lib/python3.9/site-packages/pandas/core/series.py:4433\u001b[0m, in \u001b[0;36mSeries.apply\u001b[0;34m(self, func, convert_dtype, args, **kwargs)\u001b[0m\n\u001b[1;32m   4323\u001b[0m \u001b[39mdef\u001b[39;00m \u001b[39mapply\u001b[39m(\n\u001b[1;32m   4324\u001b[0m     \u001b[39mself\u001b[39m,\n\u001b[1;32m   4325\u001b[0m     func: AggFuncType,\n\u001b[0;32m   (...)\u001b[0m\n\u001b[1;32m   4328\u001b[0m     \u001b[39m*\u001b[39m\u001b[39m*\u001b[39mkwargs,\n\u001b[1;32m   4329\u001b[0m ) \u001b[39m-\u001b[39m\u001b[39m>\u001b[39m DataFrame \u001b[39m|\u001b[39m Series:\n\u001b[1;32m   4330\u001b[0m     \u001b[39m\"\"\"\u001b[39;00m\n\u001b[1;32m   4331\u001b[0m \u001b[39m    Invoke function on values of Series.\u001b[39;00m\n\u001b[1;32m   4332\u001b[0m \n\u001b[0;32m   (...)\u001b[0m\n\u001b[1;32m   4431\u001b[0m \u001b[39m    dtype: float64\u001b[39;00m\n\u001b[1;32m   4432\u001b[0m \u001b[39m    \"\"\"\u001b[39;00m\n\u001b[0;32m-> 4433\u001b[0m     \u001b[39mreturn\u001b[39;00m SeriesApply(\u001b[39mself\u001b[39;49m, func, convert_dtype, args, kwargs)\u001b[39m.\u001b[39;49mapply()\n",
      "File \u001b[0;32m~/opt/anaconda3/lib/python3.9/site-packages/pandas/core/apply.py:1082\u001b[0m, in \u001b[0;36mSeriesApply.apply\u001b[0;34m(self)\u001b[0m\n\u001b[1;32m   1078\u001b[0m \u001b[39mif\u001b[39;00m \u001b[39misinstance\u001b[39m(\u001b[39mself\u001b[39m\u001b[39m.\u001b[39mf, \u001b[39mstr\u001b[39m):\n\u001b[1;32m   1079\u001b[0m     \u001b[39m# if we are a string, try to dispatch\u001b[39;00m\n\u001b[1;32m   1080\u001b[0m     \u001b[39mreturn\u001b[39;00m \u001b[39mself\u001b[39m\u001b[39m.\u001b[39mapply_str()\n\u001b[0;32m-> 1082\u001b[0m \u001b[39mreturn\u001b[39;00m \u001b[39mself\u001b[39;49m\u001b[39m.\u001b[39;49mapply_standard()\n",
      "File \u001b[0;32m~/opt/anaconda3/lib/python3.9/site-packages/pandas/core/apply.py:1137\u001b[0m, in \u001b[0;36mSeriesApply.apply_standard\u001b[0;34m(self)\u001b[0m\n\u001b[1;32m   1131\u001b[0m         values \u001b[39m=\u001b[39m obj\u001b[39m.\u001b[39mastype(\u001b[39mobject\u001b[39m)\u001b[39m.\u001b[39m_values\n\u001b[1;32m   1132\u001b[0m         \u001b[39m# error: Argument 2 to \"map_infer\" has incompatible type\u001b[39;00m\n\u001b[1;32m   1133\u001b[0m         \u001b[39m# \"Union[Callable[..., Any], str, List[Union[Callable[..., Any], str]],\u001b[39;00m\n\u001b[1;32m   1134\u001b[0m         \u001b[39m# Dict[Hashable, Union[Union[Callable[..., Any], str],\u001b[39;00m\n\u001b[1;32m   1135\u001b[0m         \u001b[39m# List[Union[Callable[..., Any], str]]]]]\"; expected\u001b[39;00m\n\u001b[1;32m   1136\u001b[0m         \u001b[39m# \"Callable[[Any], Any]\"\u001b[39;00m\n\u001b[0;32m-> 1137\u001b[0m         mapped \u001b[39m=\u001b[39m lib\u001b[39m.\u001b[39;49mmap_infer(\n\u001b[1;32m   1138\u001b[0m             values,\n\u001b[1;32m   1139\u001b[0m             f,  \u001b[39m# type: ignore[arg-type]\u001b[39;49;00m\n\u001b[1;32m   1140\u001b[0m             convert\u001b[39m=\u001b[39;49m\u001b[39mself\u001b[39;49m\u001b[39m.\u001b[39;49mconvert_dtype,\n\u001b[1;32m   1141\u001b[0m         )\n\u001b[1;32m   1143\u001b[0m \u001b[39mif\u001b[39;00m \u001b[39mlen\u001b[39m(mapped) \u001b[39mand\u001b[39;00m \u001b[39misinstance\u001b[39m(mapped[\u001b[39m0\u001b[39m], ABCSeries):\n\u001b[1;32m   1144\u001b[0m     \u001b[39m# GH#43986 Need to do list(mapped) in order to get treated as nested\u001b[39;00m\n\u001b[1;32m   1145\u001b[0m     \u001b[39m#  See also GH#25959 regarding EA support\u001b[39;00m\n\u001b[1;32m   1146\u001b[0m     \u001b[39mreturn\u001b[39;00m obj\u001b[39m.\u001b[39m_constructor_expanddim(\u001b[39mlist\u001b[39m(mapped), index\u001b[39m=\u001b[39mobj\u001b[39m.\u001b[39mindex)\n",
      "File \u001b[0;32m~/opt/anaconda3/lib/python3.9/site-packages/pandas/_libs/lib.pyx:2870\u001b[0m, in \u001b[0;36mpandas._libs.lib.map_infer\u001b[0;34m()\u001b[0m\n",
      "File \u001b[0;32m~/opt/anaconda3/lib/python3.9/site-packages/tqdm/std.py:809\u001b[0m, in \u001b[0;36mtqdm.pandas.<locals>.inner_generator.<locals>.inner.<locals>.wrapper\u001b[0;34m(*args, **kwargs)\u001b[0m\n\u001b[1;32m    803\u001b[0m \u001b[39mdef\u001b[39;00m \u001b[39mwrapper\u001b[39m(\u001b[39m*\u001b[39margs, \u001b[39m*\u001b[39m\u001b[39m*\u001b[39mkwargs):\n\u001b[1;32m    804\u001b[0m     \u001b[39m# update tbar correctly\u001b[39;00m\n\u001b[1;32m    805\u001b[0m     \u001b[39m# it seems `pandas apply` calls `func` twice\u001b[39;00m\n\u001b[1;32m    806\u001b[0m     \u001b[39m# on the first column/row to decide whether it can\u001b[39;00m\n\u001b[1;32m    807\u001b[0m     \u001b[39m# take a fast or slow code path; so stop when t.total==t.n\u001b[39;00m\n\u001b[1;32m    808\u001b[0m     t\u001b[39m.\u001b[39mupdate(n\u001b[39m=\u001b[39m\u001b[39m1\u001b[39m \u001b[39mif\u001b[39;00m \u001b[39mnot\u001b[39;00m t\u001b[39m.\u001b[39mtotal \u001b[39mor\u001b[39;00m t\u001b[39m.\u001b[39mn \u001b[39m<\u001b[39m t\u001b[39m.\u001b[39mtotal \u001b[39melse\u001b[39;00m \u001b[39m0\u001b[39m)\n\u001b[0;32m--> 809\u001b[0m     \u001b[39mreturn\u001b[39;00m func(\u001b[39m*\u001b[39;49margs, \u001b[39m*\u001b[39;49m\u001b[39m*\u001b[39;49mkwargs)\n",
      "\u001b[1;32m/Users/kspicer/Documents/GitHub/ussc_text_classification/data_wrangling_notebook.ipynb Cell 8\u001b[0m in \u001b[0;36m<lambda>\u001b[0;34m(x)\u001b[0m\n\u001b[1;32m      <a href='vscode-notebook-cell:/Users/kspicer/Documents/GitHub/ussc_text_classification/data_wrangling_notebook.ipynb#X34sZmlsZQ%3D%3D?line=0'>1</a>\u001b[0m \u001b[39mfrom\u001b[39;00m \u001b[39mtqdm\u001b[39;00m\u001b[39m.\u001b[39;00m\u001b[39m_tqdm_notebook\u001b[39;00m \u001b[39mimport\u001b[39;00m tqdm_notebook\n\u001b[1;32m      <a href='vscode-notebook-cell:/Users/kspicer/Documents/GitHub/ussc_text_classification/data_wrangling_notebook.ipynb#X34sZmlsZQ%3D%3D?line=1'>2</a>\u001b[0m tqdm_notebook\u001b[39m.\u001b[39mpandas()\n\u001b[0;32m----> <a href='vscode-notebook-cell:/Users/kspicer/Documents/GitHub/ussc_text_classification/data_wrangling_notebook.ipynb#X34sZmlsZQ%3D%3D?line=3'>4</a>\u001b[0m merged_df_of_interest[\u001b[39m'\u001b[39m\u001b[39mcleaned_html\u001b[39m\u001b[39m'\u001b[39m] \u001b[39m=\u001b[39m merged_df_of_interest[\u001b[39m'\u001b[39m\u001b[39mhtml\u001b[39m\u001b[39m'\u001b[39m]\u001b[39m.\u001b[39mprogress_apply(\u001b[39mlambda\u001b[39;00m x: clean_text(x) \u001b[39mif\u001b[39;00m x\u001b[39m!=\u001b[39m \u001b[39m'\u001b[39m\u001b[39m'\u001b[39m \u001b[39melse\u001b[39;00m x)\n",
      "\u001b[1;32m/Users/kspicer/Documents/GitHub/ussc_text_classification/data_wrangling_notebook.ipynb Cell 8\u001b[0m in \u001b[0;36mclean_text\u001b[0;34m(text)\u001b[0m\n\u001b[1;32m      <a href='vscode-notebook-cell:/Users/kspicer/Documents/GitHub/ussc_text_classification/data_wrangling_notebook.ipynb#X34sZmlsZQ%3D%3D?line=0'>1</a>\u001b[0m \u001b[39mdef\u001b[39;00m \u001b[39mclean_text\u001b[39m(text):\n\u001b[0;32m----> <a href='vscode-notebook-cell:/Users/kspicer/Documents/GitHub/ussc_text_classification/data_wrangling_notebook.ipynb#X34sZmlsZQ%3D%3D?line=1'>2</a>\u001b[0m     text \u001b[39m=\u001b[39m BeautifulSoup(ihtml\u001b[39m.\u001b[39;49munescape(text), \u001b[39m\"\u001b[39m\u001b[39mlxml\u001b[39m\u001b[39m\"\u001b[39m)\u001b[39m.\u001b[39mtext\n\u001b[1;32m      <a href='vscode-notebook-cell:/Users/kspicer/Documents/GitHub/ussc_text_classification/data_wrangling_notebook.ipynb#X34sZmlsZQ%3D%3D?line=2'>3</a>\u001b[0m     text \u001b[39m=\u001b[39m re\u001b[39m.\u001b[39msub(\u001b[39mr\u001b[39m\u001b[39m\"\u001b[39m\u001b[39mhttp[s]?://\u001b[39m\u001b[39m\\\u001b[39m\u001b[39mS+\u001b[39m\u001b[39m\"\u001b[39m, \u001b[39m\"\u001b[39m\u001b[39m\"\u001b[39m, text)\n\u001b[1;32m      <a href='vscode-notebook-cell:/Users/kspicer/Documents/GitHub/ussc_text_classification/data_wrangling_notebook.ipynb#X34sZmlsZQ%3D%3D?line=3'>4</a>\u001b[0m     text \u001b[39m=\u001b[39m re\u001b[39m.\u001b[39msub(\u001b[39mr\u001b[39m\u001b[39m\"\u001b[39m\u001b[39m\\\u001b[39m\u001b[39ms+\u001b[39m\u001b[39m\"\u001b[39m, \u001b[39m\"\u001b[39m\u001b[39m \u001b[39m\u001b[39m\"\u001b[39m, text)\n",
      "File \u001b[0;32m~/opt/anaconda3/lib/python3.9/html/__init__.py:130\u001b[0m, in \u001b[0;36munescape\u001b[0;34m(s)\u001b[0m\n\u001b[1;32m    122\u001b[0m \u001b[39mdef\u001b[39;00m \u001b[39munescape\u001b[39m(s):\n\u001b[1;32m    123\u001b[0m     \u001b[39m\"\"\"\u001b[39;00m\n\u001b[1;32m    124\u001b[0m \u001b[39m    Convert all named and numeric character references (e.g. &gt;, &#62;,\u001b[39;00m\n\u001b[1;32m    125\u001b[0m \u001b[39m    &x3e;) in the string s to the corresponding unicode characters.\u001b[39;00m\n\u001b[0;32m   (...)\u001b[0m\n\u001b[1;32m    128\u001b[0m \u001b[39m    HTML 5 named character references defined in html.entities.html5.\u001b[39;00m\n\u001b[1;32m    129\u001b[0m \u001b[39m    \"\"\"\u001b[39;00m\n\u001b[0;32m--> 130\u001b[0m     \u001b[39mif\u001b[39;00m \u001b[39m'\u001b[39;49m\u001b[39m&\u001b[39;49m\u001b[39m'\u001b[39;49m \u001b[39mnot\u001b[39;49;00m \u001b[39min\u001b[39;49;00m s:\n\u001b[1;32m    131\u001b[0m         \u001b[39mreturn\u001b[39;00m s\n\u001b[1;32m    132\u001b[0m     \u001b[39mreturn\u001b[39;00m _charref\u001b[39m.\u001b[39msub(_replace_charref, s)\n",
      "\u001b[0;31mTypeError\u001b[0m: argument of type 'NoneType' is not iterable"
     ]
    }
   ],
   "source": [
    "from tqdm._tqdm_notebook import tqdm_notebook\n",
    "tqdm_notebook.pandas()\n",
    "\n"
   ]
  },
  {
   "cell_type": "code",
   "execution_count": null,
   "metadata": {},
   "outputs": [],
   "source": [
    "merged_df_of_interest['cleaned_html'] = tqdm(merged_df_of_interest['cleaned_html'].replace(r'\\n',' ', regex=True)) "
   ]
  },
  {
   "cell_type": "code",
   "execution_count": null,
   "metadata": {},
   "outputs": [],
   "source": [
    "dataframe_for_training = merged_df_of_interest[['cleaned_html', 'label']]\n",
    "dataframe_for_training.json(' /Users/kspicer/Desktop/spacy_textcat/cleaned_dataframe.jsonl', orient='records', lines=True)"
   ]
  },
  {
   "cell_type": "code",
   "execution_count": null,
   "metadata": {},
   "outputs": [
    {
     "name": "stderr",
     "output_type": "stream",
     "text": [
      "[nltk_data] Downloading package punkt to /Users/kspicer/nltk_data...\n",
      "[nltk_data]   Package punkt is already up-to-date!\n",
      "[nltk_data] Downloading package wordnet to /Users/kspicer/nltk_data...\n",
      "[nltk_data]   Package wordnet is already up-to-date!\n",
      "[nltk_data] Downloading package stopwords to\n",
      "[nltk_data]     /Users/kspicer/nltk_data...\n",
      "[nltk_data]   Package stopwords is already up-to-date!\n"
     ]
    }
   ],
   "source": [
    "'''\n",
    "import re\n",
    "import string\n",
    "import numpy as np\n",
    "import pandas as pd\n",
    "from tqdm.auto import tqdm\n",
    "\n",
    "import nltk\n",
    "\n",
    "from nltk.stem import WordNetLemmatizer\n",
    "from nltk import word_tokenize\n",
    "from nltk.corpus import stopwords\n",
    "from nltk import word_tokenize\n",
    "\n",
    "from sklearn.utils import shuffle\n",
    "from sklearn.naive_bayes import GaussianNB\n",
    "from sklearn.model_selection import train_test_split\n",
    "from sklearn.feature_extraction.text import TfidfVectorizer\n",
    "from sklearn.metrics import confusion_matrix, accuracy_score, classification_report\n",
    "\n",
    "\n",
    "# some text cleaning functions\n",
    "def convert_to_lower(text):\n",
    "    return text.lower()\n",
    "\n",
    "def remove_numbers(text):\n",
    "    number_pattern = r'\\d+'\n",
    "    without_number = re.sub(pattern=number_pattern, repl=\" \", string=text)\n",
    "    return without_number\n",
    "\n",
    "def remove_punctuation(text):\n",
    "    return text.translate(str.maketrans('', '', string.punctuation))\n",
    "\n",
    "def remove_stopwords(text):\n",
    "    removed = []\n",
    "    stop_words = list(stopwords.words(\"english\"))\n",
    "    tokens = word_tokenize(text)\n",
    "    for i in range(len(tokens)):\n",
    "        if tokens[i] not in stop_words:\n",
    "            removed.append(tokens[i])\n",
    "    return \" \".join(removed)\n",
    "\n",
    "def remove_extra_white_spaces(text):\n",
    "    single_char_pattern = r'\\s+[a-zA-Z]\\s+'\n",
    "    without_sc = re.sub(pattern=single_char_pattern, repl=\" \", string=text)\n",
    "    return without_sc\n",
    "'''"
   ]
  },
  {
   "cell_type": "code",
   "execution_count": null,
   "metadata": {},
   "outputs": [
    {
     "data": {
      "application/vnd.jupyter.widget-view+json": {
       "model_id": "4bcac088c8a5409f9e4bf56263ccadcc",
       "version_major": 2,
       "version_minor": 0
      },
      "text/plain": [
       "  0%|          | 0/63374 [00:00<?, ?it/s]"
      ]
     },
     "metadata": {},
     "output_type": "display_data"
    },
    {
     "name": "stderr",
     "output_type": "stream",
     "text": [
      "/var/folders/jt/_w07f41j0zz__hb4jz9bz0vh0000gp/T/ipykernel_23083/2176783017.py:1: SettingWithCopyWarning: \n",
      "A value is trying to be set on a copy of a slice from a DataFrame.\n",
      "Try using .loc[row_indexer,col_indexer] = value instead\n",
      "\n",
      "See the caveats in the documentation: https://pandas.pydata.org/pandas-docs/stable/user_guide/indexing.html#returning-a-view-versus-a-copy\n",
      "  dataframe_for_training['cleaned_html'] = tqdm(dataframe_for_training['cleaned_html'].apply(lambda x: convert_to_lower(x)))\n",
      "/var/folders/jt/_w07f41j0zz__hb4jz9bz0vh0000gp/T/ipykernel_23083/2176783017.py:2: SettingWithCopyWarning: \n",
      "A value is trying to be set on a copy of a slice from a DataFrame.\n",
      "Try using .loc[row_indexer,col_indexer] = value instead\n",
      "\n",
      "See the caveats in the documentation: https://pandas.pydata.org/pandas-docs/stable/user_guide/indexing.html#returning-a-view-versus-a-copy\n",
      "  dataframe_for_training['cleaned_html'] = dataframe_for_training['cleaned_html'].apply(lambda x: remove_numbers(x))\n",
      "/var/folders/jt/_w07f41j0zz__hb4jz9bz0vh0000gp/T/ipykernel_23083/2176783017.py:3: SettingWithCopyWarning: \n",
      "A value is trying to be set on a copy of a slice from a DataFrame.\n",
      "Try using .loc[row_indexer,col_indexer] = value instead\n",
      "\n",
      "See the caveats in the documentation: https://pandas.pydata.org/pandas-docs/stable/user_guide/indexing.html#returning-a-view-versus-a-copy\n",
      "  dataframe_for_training['cleaned_html'] = dataframe_for_training['cleaned_html'].apply(lambda x: remove_punctuation(x))\n",
      "/var/folders/jt/_w07f41j0zz__hb4jz9bz0vh0000gp/T/ipykernel_23083/2176783017.py:4: SettingWithCopyWarning: \n",
      "A value is trying to be set on a copy of a slice from a DataFrame.\n",
      "Try using .loc[row_indexer,col_indexer] = value instead\n",
      "\n",
      "See the caveats in the documentation: https://pandas.pydata.org/pandas-docs/stable/user_guide/indexing.html#returning-a-view-versus-a-copy\n",
      "  dataframe_for_training['cleaned_html'] = dataframe_for_training['cleaned_html'].apply(lambda x: remove_stopwords(x))\n",
      "/var/folders/jt/_w07f41j0zz__hb4jz9bz0vh0000gp/T/ipykernel_23083/2176783017.py:5: SettingWithCopyWarning: \n",
      "A value is trying to be set on a copy of a slice from a DataFrame.\n",
      "Try using .loc[row_indexer,col_indexer] = value instead\n",
      "\n",
      "See the caveats in the documentation: https://pandas.pydata.org/pandas-docs/stable/user_guide/indexing.html#returning-a-view-versus-a-copy\n",
      "  dataframe_for_training['cleaned_html'] = dataframe_for_training['cleaned_html'].apply(lambda x: remove_extra_white_spaces(x))\n"
     ]
    }
   ],
   "source": [
    "'''\n",
    "dataframe_for_training['cleaned_html'] = tqdm(dataframe_for_training['cleaned_html'].apply(lambda x: convert_to_lower(x)))\n",
    "dataframe_for_training['cleaned_html'] = dataframe_for_training['cleaned_html'].apply(lambda x: remove_numbers(x))\n",
    "dataframe_for_training['cleaned_html'] = dataframe_for_training['cleaned_html'].apply(lambda x: remove_punctuation(x))\n",
    "dataframe_for_training['cleaned_html'] = dataframe_for_training['cleaned_html'].apply(lambda x: remove_stopwords(x))\n",
    "dataframe_for_training['cleaned_html'] = dataframe_for_training['cleaned_html'].apply(lambda x: remove_extra_white_spaces(x))\n",
    "'''"
   ]
  },
  {
   "cell_type": "code",
   "execution_count": null,
   "metadata": {},
   "outputs": [],
   "source": []
  },
  {
   "cell_type": "code",
   "execution_count": null,
   "metadata": {},
   "outputs": [],
   "source": []
  }
 ],
 "metadata": {
  "kernelspec": {
   "display_name": "Python 3.9.12 ('base')",
   "language": "python",
   "name": "python3"
  },
  "language_info": {
   "codemirror_mode": {
    "name": "ipython",
    "version": 3
   },
   "file_extension": ".py",
   "mimetype": "text/x-python",
   "name": "python",
   "nbconvert_exporter": "python",
   "pygments_lexer": "ipython3",
   "version": "3.9.12"
  },
  "orig_nbformat": 4,
  "vscode": {
   "interpreter": {
    "hash": "e7b3036a75e82195f25039e0a24313af0afb91902907fcbdd7fd0983e19573b0"
   }
  }
 },
 "nbformat": 4,
 "nbformat_minor": 2
}
