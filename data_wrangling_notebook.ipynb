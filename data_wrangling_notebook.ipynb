{
 "cells": [
  {
   "cell_type": "code",
   "execution_count": 2,
   "metadata": {},
   "outputs": [],
   "source": [
    "import json\n",
    "import os\n",
    "from pathlib import Path\n",
    "import pandas as pd"
   ]
  },
  {
   "cell_type": "code",
   "execution_count": 3,
   "metadata": {},
   "outputs": [],
   "source": [
    "def read_jsons_into_dataframe(directory):\n",
    "    temp_list_of_dfs = []\n",
    "    directory = directory\n",
    "    pathlist = Path(directory).rglob('*.json')\n",
    "    for path in pathlist:\n",
    "        with open(path) as f:\n",
    "            json_data = pd.json_normalize(json.loads(f.read()))\n",
    "        temp_list_of_dfs.append(json_data)\n",
    "    combined_df = pd.concat(temp_list_of_dfs, ignore_index=True)\n",
    "    return(combined_df)"
   ]
  },
  {
   "cell_type": "code",
   "execution_count": 4,
   "metadata": {},
   "outputs": [],
   "source": [
    "df_1700s = read_jsons_into_dataframe('1700s')"
   ]
  },
  {
   "cell_type": "code",
   "execution_count": 5,
   "metadata": {},
   "outputs": [
    {
     "name": "stdout",
     "output_type": "stream",
     "text": [
      "<class 'pandas.core.frame.DataFrame'>\n",
      "RangeIndex: 277 entries, 0 to 276\n",
      "Data columns (total 41 columns):\n",
      " #   Column                        Non-Null Count  Dtype \n",
      "---  ------                        --------------  ----- \n",
      " 0   date_blocked                  0 non-null      object\n",
      " 1   id                            277 non-null    int64 \n",
      " 2   blocked                       277 non-null    bool  \n",
      " 3   judges                        277 non-null    object\n",
      " 4   court                         277 non-null    object\n",
      " 5   date_filed                    277 non-null    object\n",
      " 6   download_url                  86 non-null     object\n",
      " 7   source                        277 non-null    object\n",
      " 8   local_path                    0 non-null      object\n",
      " 9   html_lawbox                   277 non-null    object\n",
      " 10  time_retrieved                277 non-null    object\n",
      " 11  nature_of_suit                277 non-null    object\n",
      " 12  plain_text                    277 non-null    object\n",
      " 13  html_with_citations           277 non-null    object\n",
      " 14  sha1                          277 non-null    object\n",
      " 15  date_modified                 277 non-null    object\n",
      " 16  precedential_status           277 non-null    object\n",
      " 17  extracted_by_ocr              277 non-null    bool  \n",
      " 18  citation_count                277 non-null    int64 \n",
      " 19  absolute_url                  277 non-null    object\n",
      " 20  docket                        277 non-null    object\n",
      " 21  html                          277 non-null    object\n",
      " 22  resource_uri                  277 non-null    object\n",
      " 23  citation.state_cite_three     0 non-null      object\n",
      " 24  citation.federal_cite_two     0 non-null      object\n",
      " 25  citation.resource_uri         277 non-null    object\n",
      " 26  citation.federal_cite_three   0 non-null      object\n",
      " 27  citation.lexis_cite           86 non-null     object\n",
      " 28  citation.document_uris        277 non-null    object\n",
      " 29  citation.scotus_early_cite    0 non-null      object\n",
      " 30  citation.federal_cite_one     277 non-null    object\n",
      " 31  citation.case_name            277 non-null    object\n",
      " 32  citation.westlaw_cite         0 non-null      object\n",
      " 33  citation.state_cite_one       0 non-null      object\n",
      " 34  citation.specialty_cite_one   0 non-null      object\n",
      " 35  citation.state_cite_regional  0 non-null      object\n",
      " 36  citation.id                   277 non-null    int64 \n",
      " 37  citation.docket_number        1 non-null      object\n",
      " 38  citation.state_cite_two       0 non-null      object\n",
      " 39  citation.neutral_cite         1 non-null      object\n",
      " 40  supreme_court_db_id           0 non-null      object\n",
      "dtypes: bool(2), int64(3), object(36)\n",
      "memory usage: 85.1+ KB\n"
     ]
    }
   ],
   "source": [
    "df_1700s.info()"
   ]
  },
  {
   "cell_type": "code",
   "execution_count": 6,
   "metadata": {},
   "outputs": [],
   "source": [
    "df_1900s = read_jsons_into_dataframe('1900s')"
   ]
  },
  {
   "cell_type": "code",
   "execution_count": 7,
   "metadata": {},
   "outputs": [
    {
     "name": "stdout",
     "output_type": "stream",
     "text": [
      "<class 'pandas.core.frame.DataFrame'>\n",
      "RangeIndex: 24633 entries, 0 to 24632\n",
      "Data columns (total 41 columns):\n",
      " #   Column                        Non-Null Count  Dtype \n",
      "---  ------                        --------------  ----- \n",
      " 0   date_blocked                  0 non-null      object\n",
      " 1   id                            24633 non-null  int64 \n",
      " 2   blocked                       24633 non-null  bool  \n",
      " 3   judges                        24633 non-null  object\n",
      " 4   court                         24633 non-null  object\n",
      " 5   date_filed                    24633 non-null  object\n",
      " 6   download_url                  7852 non-null   object\n",
      " 7   source                        24633 non-null  object\n",
      " 8   local_path                    0 non-null      object\n",
      " 9   html_lawbox                   24619 non-null  object\n",
      " 10  time_retrieved                24633 non-null  object\n",
      " 11  nature_of_suit                24633 non-null  object\n",
      " 12  plain_text                    24633 non-null  object\n",
      " 13  html_with_citations           24633 non-null  object\n",
      " 14  sha1                          24633 non-null  object\n",
      " 15  date_modified                 24633 non-null  object\n",
      " 16  precedential_status           24633 non-null  object\n",
      " 17  absolute_url                  24633 non-null  object\n",
      " 18  citation_count                24633 non-null  int64 \n",
      " 19  supreme_court_db_id           7269 non-null   object\n",
      " 20  extracted_by_ocr              24633 non-null  bool  \n",
      " 21  docket                        24633 non-null  object\n",
      " 22  html                          24633 non-null  object\n",
      " 23  resource_uri                  24633 non-null  object\n",
      " 24  citation.state_cite_three     12 non-null     object\n",
      " 25  citation.federal_cite_one     24633 non-null  object\n",
      " 26  citation.federal_cite_two     7270 non-null   object\n",
      " 27  citation.specialty_cite_one   13 non-null     object\n",
      " 28  citation.federal_cite_three   7269 non-null   object\n",
      " 29  citation.lexis_cite           14445 non-null  object\n",
      " 30  citation.document_uris        24633 non-null  object\n",
      " 31  citation.scotus_early_cite    12 non-null     object\n",
      " 32  citation.case_name            24633 non-null  object\n",
      " 33  citation.westlaw_cite         12 non-null     object\n",
      " 34  citation.state_cite_one       12 non-null     object\n",
      " 35  citation.neutral_cite         12 non-null     object\n",
      " 36  citation.state_cite_regional  12 non-null     object\n",
      " 37  citation.state_cite_two       12 non-null     object\n",
      " 38  citation.docket_number        24295 non-null  object\n",
      " 39  citation.id                   24633 non-null  int64 \n",
      " 40  citation.resource_uri         24633 non-null  object\n",
      "dtypes: bool(2), int64(3), object(36)\n",
      "memory usage: 7.4+ MB\n"
     ]
    }
   ],
   "source": [
    "df_1900s.info()"
   ]
  },
  {
   "cell_type": "code",
   "execution_count": 8,
   "metadata": {},
   "outputs": [],
   "source": [
    "df_2000s = read_jsons_into_dataframe('2000s')"
   ]
  },
  {
   "cell_type": "code",
   "execution_count": 9,
   "metadata": {},
   "outputs": [
    {
     "name": "stdout",
     "output_type": "stream",
     "text": [
      "<class 'pandas.core.frame.DataFrame'>\n",
      "RangeIndex: 28384 entries, 0 to 28383\n",
      "Data columns (total 41 columns):\n",
      " #   Column                        Non-Null Count  Dtype \n",
      "---  ------                        --------------  ----- \n",
      " 0   date_blocked                  2 non-null      object\n",
      " 1   id                            28384 non-null  int64 \n",
      " 2   blocked                       28384 non-null  bool  \n",
      " 3   judges                        28384 non-null  object\n",
      " 4   court                         28384 non-null  object\n",
      " 5   date_filed                    28384 non-null  object\n",
      " 6   download_url                  27351 non-null  object\n",
      " 7   source                        28384 non-null  object\n",
      " 8   local_path                    987 non-null    object\n",
      " 9   html_lawbox                   28212 non-null  object\n",
      " 10  time_retrieved                28384 non-null  object\n",
      " 11  nature_of_suit                28384 non-null  object\n",
      " 12  plain_text                    28384 non-null  object\n",
      " 13  html_with_citations           28384 non-null  object\n",
      " 14  sha1                          28384 non-null  object\n",
      " 15  date_modified                 28384 non-null  object\n",
      " 16  precedential_status           28384 non-null  object\n",
      " 17  absolute_url                  28384 non-null  object\n",
      " 18  citation_count                28384 non-null  int64 \n",
      " 19  extracted_by_ocr              28384 non-null  bool  \n",
      " 20  docket                        28384 non-null  object\n",
      " 21  html                          28216 non-null  object\n",
      " 22  resource_uri                  28384 non-null  object\n",
      " 23  citation.state_cite_three     7 non-null      object\n",
      " 24  citation.federal_cite_one     28132 non-null  object\n",
      " 25  citation.federal_cite_two     1052 non-null   object\n",
      " 26  citation.specialty_cite_one   7 non-null      object\n",
      " 27  citation.federal_cite_three   1030 non-null   object\n",
      " 28  citation.lexis_cite           27544 non-null  object\n",
      " 29  citation.document_uris        28384 non-null  object\n",
      " 30  citation.scotus_early_cite    8 non-null      object\n",
      " 31  citation.case_name            28384 non-null  object\n",
      " 32  citation.westlaw_cite         7 non-null      object\n",
      " 33  citation.state_cite_one       8 non-null      object\n",
      " 34  citation.neutral_cite         14 non-null     object\n",
      " 35  citation.state_cite_regional  8 non-null      object\n",
      " 36  citation.state_cite_two       7 non-null      object\n",
      " 37  citation.docket_number        28272 non-null  object\n",
      " 38  citation.id                   28384 non-null  int64 \n",
      " 39  citation.resource_uri         28384 non-null  object\n",
      " 40  supreme_court_db_id           1012 non-null   object\n",
      "dtypes: bool(2), int64(3), object(36)\n",
      "memory usage: 8.5+ MB\n"
     ]
    }
   ],
   "source": [
    "df_2000s.info()"
   ]
  },
  {
   "cell_type": "code",
   "execution_count": 10,
   "metadata": {},
   "outputs": [
    {
     "data": {
      "text/plain": [
       "27400"
      ]
     },
     "execution_count": 10,
     "metadata": {},
     "output_type": "execute_result"
    }
   ],
   "source": [
    "len(df_2000s[df_2000s['plain_text'] == ''].index)"
   ]
  },
  {
   "cell_type": "code",
   "execution_count": 11,
   "metadata": {},
   "outputs": [
    {
     "data": {
      "text/plain": [
       "0    <pre class=\"inline\">(Slip Opinion)            ...\n",
       "1    <pre class=\"inline\">(Slip Opinion)            ...\n",
       "2    <pre class=\"inline\">(Slip Opinion)            ...\n",
       "3    <pre class=\"inline\">(Slip Opinion)            ...\n",
       "4    <pre class=\"inline\">(Slip Opinion)            ...\n",
       "Name: html_with_citations, dtype: object"
      ]
     },
     "execution_count": 11,
     "metadata": {},
     "output_type": "execute_result"
    }
   ],
   "source": [
    "df_2000s['html_with_citations'].head()"
   ]
  },
  {
   "cell_type": "code",
   "execution_count": 12,
   "metadata": {},
   "outputs": [
    {
     "data": {
      "text/plain": [
       "1407"
      ]
     },
     "execution_count": 12,
     "metadata": {},
     "output_type": "execute_result"
    }
   ],
   "source": [
    "len(df_2000s[df_2000s['html'] == ''].index)"
   ]
  },
  {
   "cell_type": "code",
   "execution_count": 13,
   "metadata": {},
   "outputs": [],
   "source": [
    "html_with_citations_blank = df_2000s[df_2000s['html_with_citations'] == ''].index"
   ]
  },
  {
   "cell_type": "code",
   "execution_count": 14,
   "metadata": {},
   "outputs": [],
   "source": [
    "df_1800s = read_jsons_into_dataframe('1800s')"
   ]
  },
  {
   "cell_type": "code",
   "execution_count": 15,
   "metadata": {},
   "outputs": [],
   "source": [
    "df_1700s['label'] = 1700\n",
    "df_1800s['label'] = 1800\n",
    "df_1900s['label'] = 1900\n",
    "df_2000s['label'] = 2000"
   ]
  },
  {
   "cell_type": "code",
   "execution_count": 16,
   "metadata": {},
   "outputs": [],
   "source": [
    "merged_df = pd.concat([df_1700s, df_1800s, df_1900s, df_2000s])"
   ]
  },
  {
   "cell_type": "code",
   "execution_count": 17,
   "metadata": {},
   "outputs": [
    {
     "data": {
      "text/plain": [
       "(63374, 42)"
      ]
     },
     "execution_count": 17,
     "metadata": {},
     "output_type": "execute_result"
    }
   ],
   "source": [
    "merged_df.shape"
   ]
  },
  {
   "cell_type": "code",
   "execution_count": 18,
   "metadata": {},
   "outputs": [],
   "source": [
    "#merged_df.to_json('fully_merged_dataset.json', orient='records')"
   ]
  },
  {
   "cell_type": "code",
   "execution_count": 19,
   "metadata": {},
   "outputs": [
    {
     "data": {
      "text/plain": [
       "Index(['date_blocked', 'id', 'blocked', 'judges', 'court', 'date_filed',\n",
       "       'download_url', 'source', 'local_path', 'html_lawbox', 'time_retrieved',\n",
       "       'nature_of_suit', 'plain_text', 'html_with_citations', 'sha1',\n",
       "       'date_modified', 'precedential_status', 'extracted_by_ocr',\n",
       "       'citation_count', 'absolute_url', 'docket', 'html', 'resource_uri',\n",
       "       'citation.state_cite_three', 'citation.federal_cite_two',\n",
       "       'citation.resource_uri', 'citation.federal_cite_three',\n",
       "       'citation.lexis_cite', 'citation.document_uris',\n",
       "       'citation.scotus_early_cite', 'citation.federal_cite_one',\n",
       "       'citation.case_name', 'citation.westlaw_cite',\n",
       "       'citation.state_cite_one', 'citation.specialty_cite_one',\n",
       "       'citation.state_cite_regional', 'citation.id', 'citation.docket_number',\n",
       "       'citation.state_cite_two', 'citation.neutral_cite',\n",
       "       'supreme_court_db_id', 'label'],\n",
       "      dtype='object')"
      ]
     },
     "execution_count": 19,
     "metadata": {},
     "output_type": "execute_result"
    }
   ],
   "source": [
    "merged_df.columns"
   ]
  },
  {
   "cell_type": "code",
   "execution_count": 20,
   "metadata": {},
   "outputs": [],
   "source": [
    "df_of_interest = merged_df[['id', 'supreme_court_db_id', 'plain_text', 'html', 'html_with_citations', 'label']]"
   ]
  },
  {
   "cell_type": "code",
   "execution_count": 21,
   "metadata": {},
   "outputs": [],
   "source": [
    "#df_of_interest.to_json('subsetted_full_dataset.json', orient='records')"
   ]
  },
  {
   "cell_type": "code",
   "execution_count": 22,
   "metadata": {},
   "outputs": [],
   "source": [
    "from bs4 import BeautifulSoup\n",
    "\n",
    "def remove_html_with_bs4(text):\n",
    "    cleaned_text = BeautifulSoup(text, 'lxml').get_text().strip()\n",
    "    return(cleaned_text)"
   ]
  },
  {
   "cell_type": "code",
   "execution_count": 23,
   "metadata": {},
   "outputs": [
    {
     "data": {
      "text/html": [
       "<div>\n",
       "<style scoped>\n",
       "    .dataframe tbody tr th:only-of-type {\n",
       "        vertical-align: middle;\n",
       "    }\n",
       "\n",
       "    .dataframe tbody tr th {\n",
       "        vertical-align: top;\n",
       "    }\n",
       "\n",
       "    .dataframe thead th {\n",
       "        text-align: right;\n",
       "    }\n",
       "</style>\n",
       "<table border=\"1\" class=\"dataframe\">\n",
       "  <thead>\n",
       "    <tr style=\"text-align: right;\">\n",
       "      <th></th>\n",
       "      <th>id</th>\n",
       "      <th>supreme_court_db_id</th>\n",
       "      <th>plain_text</th>\n",
       "      <th>html</th>\n",
       "      <th>html_with_citations</th>\n",
       "      <th>label</th>\n",
       "    </tr>\n",
       "  </thead>\n",
       "  <tbody>\n",
       "    <tr>\n",
       "      <th>0</th>\n",
       "      <td>2381753</td>\n",
       "      <td>NaN</td>\n",
       "      <td></td>\n",
       "      <td></td>\n",
       "      <td></td>\n",
       "      <td>1700</td>\n",
       "    </tr>\n",
       "    <tr>\n",
       "      <th>6</th>\n",
       "      <td>2381641</td>\n",
       "      <td>NaN</td>\n",
       "      <td></td>\n",
       "      <td></td>\n",
       "      <td></td>\n",
       "      <td>1700</td>\n",
       "    </tr>\n",
       "    <tr>\n",
       "      <th>7</th>\n",
       "      <td>2381711</td>\n",
       "      <td>NaN</td>\n",
       "      <td></td>\n",
       "      <td></td>\n",
       "      <td></td>\n",
       "      <td>1700</td>\n",
       "    </tr>\n",
       "    <tr>\n",
       "      <th>8</th>\n",
       "      <td>2381756</td>\n",
       "      <td>NaN</td>\n",
       "      <td></td>\n",
       "      <td></td>\n",
       "      <td></td>\n",
       "      <td>1700</td>\n",
       "    </tr>\n",
       "    <tr>\n",
       "      <th>11</th>\n",
       "      <td>2381794</td>\n",
       "      <td>NaN</td>\n",
       "      <td></td>\n",
       "      <td></td>\n",
       "      <td></td>\n",
       "      <td>1700</td>\n",
       "    </tr>\n",
       "    <tr>\n",
       "      <th>...</th>\n",
       "      <td>...</td>\n",
       "      <td>...</td>\n",
       "      <td>...</td>\n",
       "      <td>...</td>\n",
       "      <td>...</td>\n",
       "      <td>...</td>\n",
       "    </tr>\n",
       "    <tr>\n",
       "      <th>5764</th>\n",
       "      <td>1991620</td>\n",
       "      <td>NaN</td>\n",
       "      <td></td>\n",
       "      <td></td>\n",
       "      <td></td>\n",
       "      <td>2000</td>\n",
       "    </tr>\n",
       "    <tr>\n",
       "      <th>5947</th>\n",
       "      <td>799975</td>\n",
       "      <td>2004-060</td>\n",
       "      <td>(Slip Opinion)              OCTOBER TERM, 2004...</td>\n",
       "      <td></td>\n",
       "      <td>&lt;div&gt;\\n&lt;center&gt;&lt;b&gt;&lt;span class=\"citation no-lin...</td>\n",
       "      <td>2000</td>\n",
       "    </tr>\n",
       "    <tr>\n",
       "      <th>5961</th>\n",
       "      <td>1982974</td>\n",
       "      <td>NaN</td>\n",
       "      <td></td>\n",
       "      <td></td>\n",
       "      <td></td>\n",
       "      <td>2000</td>\n",
       "    </tr>\n",
       "    <tr>\n",
       "      <th>5969</th>\n",
       "      <td>1991876</td>\n",
       "      <td>NaN</td>\n",
       "      <td></td>\n",
       "      <td></td>\n",
       "      <td></td>\n",
       "      <td>2000</td>\n",
       "    </tr>\n",
       "    <tr>\n",
       "      <th>10773</th>\n",
       "      <td>1087981</td>\n",
       "      <td>NaN</td>\n",
       "      <td></td>\n",
       "      <td></td>\n",
       "      <td>&lt;div&gt;\\n&lt;center&gt;&lt;b&gt;&lt;span class=\"citation no-lin...</td>\n",
       "      <td>2000</td>\n",
       "    </tr>\n",
       "  </tbody>\n",
       "</table>\n",
       "<p>3319 rows × 6 columns</p>\n",
       "</div>"
      ],
      "text/plain": [
       "            id supreme_court_db_id  \\\n",
       "0      2381753                 NaN   \n",
       "6      2381641                 NaN   \n",
       "7      2381711                 NaN   \n",
       "8      2381756                 NaN   \n",
       "11     2381794                 NaN   \n",
       "...        ...                 ...   \n",
       "5764   1991620                 NaN   \n",
       "5947    799975            2004-060   \n",
       "5961   1982974                 NaN   \n",
       "5969   1991876                 NaN   \n",
       "10773  1087981                 NaN   \n",
       "\n",
       "                                              plain_text html  \\\n",
       "0                                                               \n",
       "6                                                               \n",
       "7                                                               \n",
       "8                                                               \n",
       "11                                                              \n",
       "...                                                  ...  ...   \n",
       "5764                                                            \n",
       "5947   (Slip Opinion)              OCTOBER TERM, 2004...        \n",
       "5961                                                            \n",
       "5969                                                            \n",
       "10773                                                           \n",
       "\n",
       "                                     html_with_citations  label  \n",
       "0                                                          1700  \n",
       "6                                                          1700  \n",
       "7                                                          1700  \n",
       "8                                                          1700  \n",
       "11                                                         1700  \n",
       "...                                                  ...    ...  \n",
       "5764                                                       2000  \n",
       "5947   <div>\\n<center><b><span class=\"citation no-lin...   2000  \n",
       "5961                                                       2000  \n",
       "5969                                                       2000  \n",
       "10773  <div>\\n<center><b><span class=\"citation no-lin...   2000  \n",
       "\n",
       "[3319 rows x 6 columns]"
      ]
     },
     "execution_count": 23,
     "metadata": {},
     "output_type": "execute_result"
    }
   ],
   "source": [
    "df_of_interest.loc[df_of_interest['html'] == '']"
   ]
  },
  {
   "cell_type": "code",
   "execution_count": 24,
   "metadata": {},
   "outputs": [
    {
     "data": {
      "text/plain": [
       "id                     2381753\n",
       "supreme_court_db_id        NaN\n",
       "plain_text                    \n",
       "html                          \n",
       "html_with_citations           \n",
       "label                     1700\n",
       "Name: 0, dtype: object"
      ]
     },
     "execution_count": 24,
     "metadata": {},
     "output_type": "execute_result"
    }
   ],
   "source": [
    "df_of_interest.iloc[0]"
   ]
  },
  {
   "cell_type": "code",
   "execution_count": 25,
   "metadata": {},
   "outputs": [
    {
     "name": "stderr",
     "output_type": "stream",
     "text": [
      "/var/folders/jt/_w07f41j0zz__hb4jz9bz0vh0000gp/T/ipykernel_23083/3009024375.py:1: SettingWithCopyWarning: \n",
      "A value is trying to be set on a copy of a slice from a DataFrame\n",
      "\n",
      "See the caveats in the documentation: https://pandas.pydata.org/pandas-docs/stable/user_guide/indexing.html#returning-a-view-versus-a-copy\n",
      "  df_of_interest.dropna(subset=['plain_text', 'html', 'html_with_citations'], how='all',inplace=True)\n"
     ]
    }
   ],
   "source": [
    "df_of_interest.dropna(subset=['plain_text', 'html', 'html_with_citations'], how='all',inplace=True)"
   ]
  },
  {
   "cell_type": "code",
   "execution_count": 26,
   "metadata": {},
   "outputs": [],
   "source": [
    "def remove_html_escape(html):\n",
    "    return BeautifulSoup(str(html), \"lxml\").text"
   ]
  },
  {
   "cell_type": "code",
   "execution_count": 28,
   "metadata": {},
   "outputs": [
    {
     "name": "stderr",
     "output_type": "stream",
     "text": [
      "/var/folders/jt/_w07f41j0zz__hb4jz9bz0vh0000gp/T/ipykernel_23083/4253705768.py:1: SettingWithCopyWarning: \n",
      "A value is trying to be set on a copy of a slice from a DataFrame.\n",
      "Try using .loc[row_indexer,col_indexer] = value instead\n",
      "\n",
      "See the caveats in the documentation: https://pandas.pydata.org/pandas-docs/stable/user_guide/indexing.html#returning-a-view-versus-a-copy\n",
      "  df_of_interest['cleaned_html'] = df_of_interest['html'].apply(lambda x: remove_html_escape(x) if x != '' else x)\n"
     ]
    }
   ],
   "source": [
    "df_of_interest['cleaned_html'] = df_of_interest['html'].apply(lambda x: remove_html_escape(x) if x != '' else x)"
   ]
  },
  {
   "cell_type": "code",
   "execution_count": 29,
   "metadata": {},
   "outputs": [
    {
     "name": "stderr",
     "output_type": "stream",
     "text": [
      "/var/folders/jt/_w07f41j0zz__hb4jz9bz0vh0000gp/T/ipykernel_23083/997970263.py:1: SettingWithCopyWarning: \n",
      "A value is trying to be set on a copy of a slice from a DataFrame.\n",
      "Try using .loc[row_indexer,col_indexer] = value instead\n",
      "\n",
      "See the caveats in the documentation: https://pandas.pydata.org/pandas-docs/stable/user_guide/indexing.html#returning-a-view-versus-a-copy\n",
      "  df_of_interest['cleaned_html'] = df_of_interest['cleaned_html'].replace(r'\\n',' ', regex=True)\n"
     ]
    }
   ],
   "source": [
    "df_of_interest['cleaned_html'] = df_of_interest['cleaned_html'].replace(r'\\n',' ', regex=True) "
   ]
  },
  {
   "cell_type": "code",
   "execution_count": 30,
   "metadata": {},
   "outputs": [
    {
     "data": {
      "text/plain": [
       "984"
      ]
     },
     "execution_count": 30,
     "metadata": {},
     "output_type": "execute_result"
    }
   ],
   "source": [
    "no_plain_text = df_of_interest.loc[df_of_interest['plain_text'] != '']\n",
    "len(no_plain_text)\n",
    "#print(no_plain_text.head(15))"
   ]
  },
  {
   "cell_type": "code",
   "execution_count": 31,
   "metadata": {},
   "outputs": [
    {
     "name": "stdout",
     "output_type": "stream",
     "text": [
      "         id supreme_court_db_id plain_text html html_with_citations  label  \\\n",
      "0   2381753                 NaN                                       1700   \n",
      "6   2381641                 NaN                                       1700   \n",
      "7   2381711                 NaN                                       1700   \n",
      "8   2381756                 NaN                                       1700   \n",
      "11  2381794                 NaN                                       1700   \n",
      "12  2381810                 NaN                                       1700   \n",
      "14  2381772                 NaN                                       1700   \n",
      "17  2381770                 NaN                                       1700   \n",
      "20  2381659                 NaN                                       1700   \n",
      "21  2381663                 NaN                                       1700   \n",
      "23  2381613                 NaN                                       1700   \n",
      "24  2381736                 NaN                                       1700   \n",
      "27  2381670                 NaN                                       1700   \n",
      "28  2381715                 NaN                                       1700   \n",
      "29  2381650                 NaN                                       1700   \n",
      "\n",
      "   cleaned_html  \n",
      "0                \n",
      "6                \n",
      "7                \n",
      "8                \n",
      "11               \n",
      "12               \n",
      "14               \n",
      "17               \n",
      "20               \n",
      "21               \n",
      "23               \n",
      "24               \n",
      "27               \n",
      "28               \n",
      "29               \n"
     ]
    }
   ],
   "source": [
    "no_html = df_of_interest.loc[df_of_interest['html'] == '']\n",
    "no_html.shape\n",
    "print(no_html.head(15))"
   ]
  },
  {
   "cell_type": "code",
   "execution_count": 32,
   "metadata": {},
   "outputs": [],
   "source": [
    "dataframe_for_training = df_of_interest[['cleaned_html', 'label']]"
   ]
  },
  {
   "cell_type": "code",
   "execution_count": 37,
   "metadata": {},
   "outputs": [
    {
     "name": "stderr",
     "output_type": "stream",
     "text": [
      "[nltk_data] Downloading package punkt to /Users/kspicer/nltk_data...\n",
      "[nltk_data]   Package punkt is already up-to-date!\n",
      "[nltk_data] Downloading package wordnet to /Users/kspicer/nltk_data...\n",
      "[nltk_data]   Package wordnet is already up-to-date!\n",
      "[nltk_data] Downloading package stopwords to\n",
      "[nltk_data]     /Users/kspicer/nltk_data...\n",
      "[nltk_data]   Package stopwords is already up-to-date!\n"
     ]
    }
   ],
   "source": [
    "import re\n",
    "import string\n",
    "import numpy as np\n",
    "import pandas as pd\n",
    "from tqdm.auto import tqdm\n",
    "\n",
    "import nltk\n",
    "nltk.download('punkt')\n",
    "nltk.download('wordnet')\n",
    "nltk.download('stopwords')\n",
    "\n",
    "from nltk.stem import WordNetLemmatizer\n",
    "from nltk import word_tokenize\n",
    "from nltk.corpus import stopwords\n",
    "from nltk import word_tokenize\n",
    "\n",
    "from sklearn.utils import shuffle\n",
    "from sklearn.naive_bayes import GaussianNB\n",
    "from sklearn.model_selection import train_test_split\n",
    "from sklearn.feature_extraction.text import TfidfVectorizer\n",
    "from sklearn.metrics import confusion_matrix, accuracy_score, classification_report\n",
    "\n",
    "\n",
    "# some text cleaning functions\n",
    "def convert_to_lower(text):\n",
    "    return text.lower()\n",
    "\n",
    "def remove_numbers(text):\n",
    "    number_pattern = r'\\d+'\n",
    "    without_number = re.sub(pattern=number_pattern, repl=\" \", string=text)\n",
    "    return without_number\n",
    "\n",
    "def remove_punctuation(text):\n",
    "    return text.translate(str.maketrans('', '', string.punctuation))\n",
    "\n",
    "def remove_stopwords(text):\n",
    "    removed = []\n",
    "    stop_words = list(stopwords.words(\"english\"))\n",
    "    tokens = word_tokenize(text)\n",
    "    for i in range(len(tokens)):\n",
    "        if tokens[i] not in stop_words:\n",
    "            removed.append(tokens[i])\n",
    "    return \" \".join(removed)\n",
    "\n",
    "def remove_extra_white_spaces(text):\n",
    "    single_char_pattern = r'\\s+[a-zA-Z]\\s+'\n",
    "    without_sc = re.sub(pattern=single_char_pattern, repl=\" \", string=text)\n",
    "    return without_sc"
   ]
  },
  {
   "cell_type": "code",
   "execution_count": 39,
   "metadata": {},
   "outputs": [
    {
     "data": {
      "application/vnd.jupyter.widget-view+json": {
       "model_id": "4bcac088c8a5409f9e4bf56263ccadcc",
       "version_major": 2,
       "version_minor": 0
      },
      "text/plain": [
       "  0%|          | 0/63374 [00:00<?, ?it/s]"
      ]
     },
     "metadata": {},
     "output_type": "display_data"
    },
    {
     "name": "stderr",
     "output_type": "stream",
     "text": [
      "/var/folders/jt/_w07f41j0zz__hb4jz9bz0vh0000gp/T/ipykernel_23083/2176783017.py:1: SettingWithCopyWarning: \n",
      "A value is trying to be set on a copy of a slice from a DataFrame.\n",
      "Try using .loc[row_indexer,col_indexer] = value instead\n",
      "\n",
      "See the caveats in the documentation: https://pandas.pydata.org/pandas-docs/stable/user_guide/indexing.html#returning-a-view-versus-a-copy\n",
      "  dataframe_for_training['cleaned_html'] = tqdm(dataframe_for_training['cleaned_html'].apply(lambda x: convert_to_lower(x)))\n",
      "/var/folders/jt/_w07f41j0zz__hb4jz9bz0vh0000gp/T/ipykernel_23083/2176783017.py:2: SettingWithCopyWarning: \n",
      "A value is trying to be set on a copy of a slice from a DataFrame.\n",
      "Try using .loc[row_indexer,col_indexer] = value instead\n",
      "\n",
      "See the caveats in the documentation: https://pandas.pydata.org/pandas-docs/stable/user_guide/indexing.html#returning-a-view-versus-a-copy\n",
      "  dataframe_for_training['cleaned_html'] = dataframe_for_training['cleaned_html'].apply(lambda x: remove_numbers(x))\n",
      "/var/folders/jt/_w07f41j0zz__hb4jz9bz0vh0000gp/T/ipykernel_23083/2176783017.py:3: SettingWithCopyWarning: \n",
      "A value is trying to be set on a copy of a slice from a DataFrame.\n",
      "Try using .loc[row_indexer,col_indexer] = value instead\n",
      "\n",
      "See the caveats in the documentation: https://pandas.pydata.org/pandas-docs/stable/user_guide/indexing.html#returning-a-view-versus-a-copy\n",
      "  dataframe_for_training['cleaned_html'] = dataframe_for_training['cleaned_html'].apply(lambda x: remove_punctuation(x))\n",
      "/var/folders/jt/_w07f41j0zz__hb4jz9bz0vh0000gp/T/ipykernel_23083/2176783017.py:4: SettingWithCopyWarning: \n",
      "A value is trying to be set on a copy of a slice from a DataFrame.\n",
      "Try using .loc[row_indexer,col_indexer] = value instead\n",
      "\n",
      "See the caveats in the documentation: https://pandas.pydata.org/pandas-docs/stable/user_guide/indexing.html#returning-a-view-versus-a-copy\n",
      "  dataframe_for_training['cleaned_html'] = dataframe_for_training['cleaned_html'].apply(lambda x: remove_stopwords(x))\n",
      "/var/folders/jt/_w07f41j0zz__hb4jz9bz0vh0000gp/T/ipykernel_23083/2176783017.py:5: SettingWithCopyWarning: \n",
      "A value is trying to be set on a copy of a slice from a DataFrame.\n",
      "Try using .loc[row_indexer,col_indexer] = value instead\n",
      "\n",
      "See the caveats in the documentation: https://pandas.pydata.org/pandas-docs/stable/user_guide/indexing.html#returning-a-view-versus-a-copy\n",
      "  dataframe_for_training['cleaned_html'] = dataframe_for_training['cleaned_html'].apply(lambda x: remove_extra_white_spaces(x))\n"
     ]
    }
   ],
   "source": [
    "dataframe_for_training['cleaned_html'] = tqdm(dataframe_for_training['cleaned_html'].apply(lambda x: convert_to_lower(x)))\n",
    "dataframe_for_training['cleaned_html'] = dataframe_for_training['cleaned_html'].apply(lambda x: remove_numbers(x))\n",
    "dataframe_for_training['cleaned_html'] = dataframe_for_training['cleaned_html'].apply(lambda x: remove_punctuation(x))\n",
    "dataframe_for_training['cleaned_html'] = dataframe_for_training['cleaned_html'].apply(lambda x: remove_stopwords(x))\n",
    "dataframe_for_training['cleaned_html'] = dataframe_for_training['cleaned_html'].apply(lambda x: remove_extra_white_spaces(x))"
   ]
  },
  {
   "cell_type": "code",
   "execution_count": 40,
   "metadata": {},
   "outputs": [],
   "source": [
    "dataframe_for_training.to_json('training_json_file.json', orient='records')"
   ]
  },
  {
   "cell_type": "code",
   "execution_count": null,
   "metadata": {},
   "outputs": [],
   "source": []
  }
 ],
 "metadata": {
  "kernelspec": {
   "display_name": "Python 3.9.12 ('victorian_authorship_env')",
   "language": "python",
   "name": "python3"
  },
  "language_info": {
   "codemirror_mode": {
    "name": "ipython",
    "version": 3
   },
   "file_extension": ".py",
   "mimetype": "text/x-python",
   "name": "python",
   "nbconvert_exporter": "python",
   "pygments_lexer": "ipython3",
   "version": "3.9.12"
  },
  "orig_nbformat": 4,
  "vscode": {
   "interpreter": {
    "hash": "ef5d861bb1be136369da2a14d97f47e042662aed23f513481be9d838db3326bb"
   }
  }
 },
 "nbformat": 4,
 "nbformat_minor": 2
}
