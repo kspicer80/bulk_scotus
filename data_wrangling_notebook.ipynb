{
 "cells": [
  {
   "cell_type": "code",
   "execution_count": 1,
   "metadata": {},
   "outputs": [],
   "source": [
    "import json\n",
    "import os\n",
    "from pathlib import Path\n",
    "import pandas as pd\n",
    "from bs4 import BeautifulSoup"
   ]
  },
  {
   "cell_type": "code",
   "execution_count": 2,
   "metadata": {},
   "outputs": [],
   "source": [
    "def read_jsons_into_dataframe(directory):\n",
    "    temp_list_of_dfs = []\n",
    "    directory = directory\n",
    "    pathlist = Path(directory).rglob('*.json')\n",
    "    for path in pathlist:\n",
    "        with open(path) as f:\n",
    "            json_data = pd.json_normalize(json.loads(f.read()))\n",
    "        temp_list_of_dfs.append(json_data)\n",
    "    combined_df = pd.concat(temp_list_of_dfs, ignore_index=True)\n",
    "    return(combined_df)"
   ]
  },
  {
   "cell_type": "code",
   "execution_count": 3,
   "metadata": {},
   "outputs": [],
   "source": [
    "def clean_text(text):\n",
    "    text = BeautifulSoup(ihtml.unescape(text), \"lxml\").text\n",
    "    text = re.sub(r\"http[s]?://\\S+\", \"\", text)\n",
    "    text = re.sub(r\"\\s+\", \" \", text)\n",
    "    return text"
   ]
  },
  {
   "cell_type": "code",
   "execution_count": 4,
   "metadata": {},
   "outputs": [],
   "source": [
    "df_1700s = read_jsons_into_dataframe('1700s')\n",
    "df_1800s = read_jsons_into_dataframe('1800s')\n",
    "df_1900s = read_jsons_into_dataframe('1900s')\n",
    "df_2000s = read_jsons_into_dataframe('2000s')"
   ]
  },
  {
   "cell_type": "code",
   "execution_count": 15,
   "metadata": {},
   "outputs": [],
   "source": [
    "df_1700s['label'] = 1700\n",
    "df_1800s['label'] = 1800\n",
    "df_1900s['label'] = 1900\n",
    "df_2000s['label'] = 2000"
   ]
  },
  {
   "cell_type": "code",
   "execution_count": null,
   "metadata": {},
   "outputs": [],
   "source": [
    "merged_df = pd.concat([df_1700s, df_1800s, df_1900s, df_2000s])"
   ]
  },
  {
   "cell_type": "code",
   "execution_count": null,
   "metadata": {},
   "outputs": [
    {
     "name": "stderr",
     "output_type": "stream",
     "text": [
      "/var/folders/jt/_w07f41j0zz__hb4jz9bz0vh0000gp/T/ipykernel_23083/3009024375.py:1: SettingWithCopyWarning: \n",
      "A value is trying to be set on a copy of a slice from a DataFrame\n",
      "\n",
      "See the caveats in the documentation: https://pandas.pydata.org/pandas-docs/stable/user_guide/indexing.html#returning-a-view-versus-a-copy\n",
      "  df_of_interest.dropna(subset=['plain_text', 'html', 'html_with_citations'], how='all',inplace=True)\n"
     ]
    }
   ],
   "source": [
    "merged_df_of_interest = merged_df[['plain_text', 'html', 'html_with_citations']]\n",
    "merged_df_of_interest.dropna(subset=['plain_text', 'html', 'html_with_citations'], how='all',inplace=True)"
   ]
  },
  {
   "cell_type": "code",
   "execution_count": null,
   "metadata": {},
   "outputs": [
    {
     "name": "stderr",
     "output_type": "stream",
     "text": [
      "/var/folders/jt/_w07f41j0zz__hb4jz9bz0vh0000gp/T/ipykernel_23083/4253705768.py:1: SettingWithCopyWarning: \n",
      "A value is trying to be set on a copy of a slice from a DataFrame.\n",
      "Try using .loc[row_indexer,col_indexer] = value instead\n",
      "\n",
      "See the caveats in the documentation: https://pandas.pydata.org/pandas-docs/stable/user_guide/indexing.html#returning-a-view-versus-a-copy\n",
      "  df_of_interest['cleaned_html'] = df_of_interest['html'].apply(lambda x: remove_html_escape(x) if x != '' else x)\n"
     ]
    }
   ],
   "source": [
    "merged_df_of_interest['cleaned_html'] = merged_df_of_interest['html'].apply(lambda x: clean_text(x) if x!= '' else x)\n",
    "merged_df_of_interest['cleaned_html'] = merged_df_of_interest['cleaned_html'].replace(r'\\n',' ', regex=True) "
   ]
  },
  {
   "cell_type": "code",
   "execution_count": null,
   "metadata": {},
   "outputs": [],
   "source": [
    "dataframe_for_training = merged_df_of_interest[['cleaned_html', 'label']]\n",
    "dataframe_for_training.json('/Users/kspicer/Desktop/spacy_textcat/cleaned_dataframe.jsonl', orient='records', lines=True)"
   ]
  },
  {
   "cell_type": "code",
   "execution_count": null,
   "metadata": {},
   "outputs": [
    {
     "name": "stderr",
     "output_type": "stream",
     "text": [
      "[nltk_data] Downloading package punkt to /Users/kspicer/nltk_data...\n",
      "[nltk_data]   Package punkt is already up-to-date!\n",
      "[nltk_data] Downloading package wordnet to /Users/kspicer/nltk_data...\n",
      "[nltk_data]   Package wordnet is already up-to-date!\n",
      "[nltk_data] Downloading package stopwords to\n",
      "[nltk_data]     /Users/kspicer/nltk_data...\n",
      "[nltk_data]   Package stopwords is already up-to-date!\n"
     ]
    }
   ],
   "source": [
    "'''\n",
    "import re\n",
    "import string\n",
    "import numpy as np\n",
    "import pandas as pd\n",
    "from tqdm.auto import tqdm\n",
    "\n",
    "import nltk\n",
    "\n",
    "from nltk.stem import WordNetLemmatizer\n",
    "from nltk import word_tokenize\n",
    "from nltk.corpus import stopwords\n",
    "from nltk import word_tokenize\n",
    "\n",
    "from sklearn.utils import shuffle\n",
    "from sklearn.naive_bayes import GaussianNB\n",
    "from sklearn.model_selection import train_test_split\n",
    "from sklearn.feature_extraction.text import TfidfVectorizer\n",
    "from sklearn.metrics import confusion_matrix, accuracy_score, classification_report\n",
    "\n",
    "\n",
    "# some text cleaning functions\n",
    "def convert_to_lower(text):\n",
    "    return text.lower()\n",
    "\n",
    "def remove_numbers(text):\n",
    "    number_pattern = r'\\d+'\n",
    "    without_number = re.sub(pattern=number_pattern, repl=\" \", string=text)\n",
    "    return without_number\n",
    "\n",
    "def remove_punctuation(text):\n",
    "    return text.translate(str.maketrans('', '', string.punctuation))\n",
    "\n",
    "def remove_stopwords(text):\n",
    "    removed = []\n",
    "    stop_words = list(stopwords.words(\"english\"))\n",
    "    tokens = word_tokenize(text)\n",
    "    for i in range(len(tokens)):\n",
    "        if tokens[i] not in stop_words:\n",
    "            removed.append(tokens[i])\n",
    "    return \" \".join(removed)\n",
    "\n",
    "def remove_extra_white_spaces(text):\n",
    "    single_char_pattern = r'\\s+[a-zA-Z]\\s+'\n",
    "    without_sc = re.sub(pattern=single_char_pattern, repl=\" \", string=text)\n",
    "    return without_sc\n",
    "'''"
   ]
  },
  {
   "cell_type": "code",
   "execution_count": null,
   "metadata": {},
   "outputs": [
    {
     "data": {
      "application/vnd.jupyter.widget-view+json": {
       "model_id": "4bcac088c8a5409f9e4bf56263ccadcc",
       "version_major": 2,
       "version_minor": 0
      },
      "text/plain": [
       "  0%|          | 0/63374 [00:00<?, ?it/s]"
      ]
     },
     "metadata": {},
     "output_type": "display_data"
    },
    {
     "name": "stderr",
     "output_type": "stream",
     "text": [
      "/var/folders/jt/_w07f41j0zz__hb4jz9bz0vh0000gp/T/ipykernel_23083/2176783017.py:1: SettingWithCopyWarning: \n",
      "A value is trying to be set on a copy of a slice from a DataFrame.\n",
      "Try using .loc[row_indexer,col_indexer] = value instead\n",
      "\n",
      "See the caveats in the documentation: https://pandas.pydata.org/pandas-docs/stable/user_guide/indexing.html#returning-a-view-versus-a-copy\n",
      "  dataframe_for_training['cleaned_html'] = tqdm(dataframe_for_training['cleaned_html'].apply(lambda x: convert_to_lower(x)))\n",
      "/var/folders/jt/_w07f41j0zz__hb4jz9bz0vh0000gp/T/ipykernel_23083/2176783017.py:2: SettingWithCopyWarning: \n",
      "A value is trying to be set on a copy of a slice from a DataFrame.\n",
      "Try using .loc[row_indexer,col_indexer] = value instead\n",
      "\n",
      "See the caveats in the documentation: https://pandas.pydata.org/pandas-docs/stable/user_guide/indexing.html#returning-a-view-versus-a-copy\n",
      "  dataframe_for_training['cleaned_html'] = dataframe_for_training['cleaned_html'].apply(lambda x: remove_numbers(x))\n",
      "/var/folders/jt/_w07f41j0zz__hb4jz9bz0vh0000gp/T/ipykernel_23083/2176783017.py:3: SettingWithCopyWarning: \n",
      "A value is trying to be set on a copy of a slice from a DataFrame.\n",
      "Try using .loc[row_indexer,col_indexer] = value instead\n",
      "\n",
      "See the caveats in the documentation: https://pandas.pydata.org/pandas-docs/stable/user_guide/indexing.html#returning-a-view-versus-a-copy\n",
      "  dataframe_for_training['cleaned_html'] = dataframe_for_training['cleaned_html'].apply(lambda x: remove_punctuation(x))\n",
      "/var/folders/jt/_w07f41j0zz__hb4jz9bz0vh0000gp/T/ipykernel_23083/2176783017.py:4: SettingWithCopyWarning: \n",
      "A value is trying to be set on a copy of a slice from a DataFrame.\n",
      "Try using .loc[row_indexer,col_indexer] = value instead\n",
      "\n",
      "See the caveats in the documentation: https://pandas.pydata.org/pandas-docs/stable/user_guide/indexing.html#returning-a-view-versus-a-copy\n",
      "  dataframe_for_training['cleaned_html'] = dataframe_for_training['cleaned_html'].apply(lambda x: remove_stopwords(x))\n",
      "/var/folders/jt/_w07f41j0zz__hb4jz9bz0vh0000gp/T/ipykernel_23083/2176783017.py:5: SettingWithCopyWarning: \n",
      "A value is trying to be set on a copy of a slice from a DataFrame.\n",
      "Try using .loc[row_indexer,col_indexer] = value instead\n",
      "\n",
      "See the caveats in the documentation: https://pandas.pydata.org/pandas-docs/stable/user_guide/indexing.html#returning-a-view-versus-a-copy\n",
      "  dataframe_for_training['cleaned_html'] = dataframe_for_training['cleaned_html'].apply(lambda x: remove_extra_white_spaces(x))\n"
     ]
    }
   ],
   "source": [
    "'''\n",
    "dataframe_for_training['cleaned_html'] = tqdm(dataframe_for_training['cleaned_html'].apply(lambda x: convert_to_lower(x)))\n",
    "dataframe_for_training['cleaned_html'] = dataframe_for_training['cleaned_html'].apply(lambda x: remove_numbers(x))\n",
    "dataframe_for_training['cleaned_html'] = dataframe_for_training['cleaned_html'].apply(lambda x: remove_punctuation(x))\n",
    "dataframe_for_training['cleaned_html'] = dataframe_for_training['cleaned_html'].apply(lambda x: remove_stopwords(x))\n",
    "dataframe_for_training['cleaned_html'] = dataframe_for_training['cleaned_html'].apply(lambda x: remove_extra_white_spaces(x))\n",
    "'''"
   ]
  },
  {
   "cell_type": "code",
   "execution_count": null,
   "metadata": {},
   "outputs": [],
   "source": []
  },
  {
   "cell_type": "code",
   "execution_count": null,
   "metadata": {},
   "outputs": [],
   "source": []
  }
 ],
 "metadata": {
  "kernelspec": {
   "display_name": "Python 3.9.12 ('base')",
   "language": "python",
   "name": "python3"
  },
  "language_info": {
   "codemirror_mode": {
    "name": "ipython",
    "version": 3
   },
   "file_extension": ".py",
   "mimetype": "text/x-python",
   "name": "python",
   "nbconvert_exporter": "python",
   "pygments_lexer": "ipython3",
   "version": "3.9.12"
  },
  "orig_nbformat": 4,
  "vscode": {
   "interpreter": {
    "hash": "e7b3036a75e82195f25039e0a24313af0afb91902907fcbdd7fd0983e19573b0"
   }
  }
 },
 "nbformat": 4,
 "nbformat_minor": 2
}
