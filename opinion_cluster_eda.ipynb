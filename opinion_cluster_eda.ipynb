{
 "cells": [
  {
   "cell_type": "code",
   "execution_count": 1,
   "metadata": {},
   "outputs": [],
   "source": [
    "import pandas as pd"
   ]
  },
  {
   "cell_type": "code",
   "execution_count": 3,
   "metadata": {},
   "outputs": [],
   "source": [
    "df = pd.read_csv('opinion-clusters-2022-08-31.csv', nrows=1000)"
   ]
  },
  {
   "cell_type": "code",
   "execution_count": 10,
   "metadata": {},
   "outputs": [
    {
     "name": "stdout",
     "output_type": "stream",
     "text": [
      "1888-12-07\n"
     ]
    }
   ],
   "source": [
    "df.head()\n",
    "print(df['date_filed'].min())\n"
   ]
  },
  {
   "cell_type": "code",
   "execution_count": 12,
   "metadata": {},
   "outputs": [],
   "source": [
    "earliest_date = df = df[df['date_filed'].str.contains('1888-12-07')]"
   ]
  },
  {
   "cell_type": "code",
   "execution_count": 13,
   "metadata": {},
   "outputs": [
    {
     "name": "stdout",
     "output_type": "stream",
     "text": [
      "        id                   date_created                  date_modified  \\\n",
      "613  92560  2014-12-21 09:30:55.232615+00  2016-08-05 21:09:24.552321+00   \n",
      "\n",
      "    judges  date_filed date_filed_is_approximate  \\\n",
      "613    NaN  1888-12-07                         f   \n",
      "\n",
      "                                       slug case_name_short  \\\n",
      "613  union-tubing-co-v-patterson-co-limited             NaN   \n",
      "\n",
      "                                      case_name case_name_full  ...  \\\n",
      "613  Union Tubing Co. v. Patterson Co., Limited            NaN  ...   \n",
      "\n",
      "    disposition  history  other_dates  cross_reference correction  \\\n",
      "613         NaN      NaN          NaN              NaN        NaN   \n",
      "\n",
      "     citation_count precedential_status date_blocked blocked docket_id  \n",
      "613               0           Published          NaN       f   1961293  \n",
      "\n",
      "[1 rows x 32 columns]\n"
     ]
    }
   ],
   "source": [
    "print(earliest_date)"
   ]
  },
  {
   "cell_type": "code",
   "execution_count": null,
   "metadata": {},
   "outputs": [],
   "source": []
  }
 ],
 "metadata": {
  "kernelspec": {
   "display_name": "Python 3.9.12 ('base')",
   "language": "python",
   "name": "python3"
  },
  "language_info": {
   "codemirror_mode": {
    "name": "ipython",
    "version": 3
   },
   "file_extension": ".py",
   "mimetype": "text/x-python",
   "name": "python",
   "nbconvert_exporter": "python",
   "pygments_lexer": "ipython3",
   "version": "3.9.12"
  },
  "orig_nbformat": 4,
  "vscode": {
   "interpreter": {
    "hash": "e7b3036a75e82195f25039e0a24313af0afb91902907fcbdd7fd0983e19573b0"
   }
  }
 },
 "nbformat": 4,
 "nbformat_minor": 2
}
