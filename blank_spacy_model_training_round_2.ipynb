{
 "cells": [
  {
   "cell_type": "code",
   "execution_count": 1,
   "metadata": {},
   "outputs": [
    {
     "name": "stderr",
     "output_type": "stream",
     "text": [
      "c:\\Users\\KSpicer\\Anaconda3\\envs\\victorian_authorship_env\\lib\\site-packages\\scipy\\__init__.py:146: UserWarning: A NumPy version >=1.16.5 and <1.23.0 is required for this version of SciPy (detected version 1.23.1\n",
      "  warnings.warn(f\"A NumPy version >={np_minversion} and <{np_maxversion}\"\n"
     ]
    }
   ],
   "source": [
    "import numpy as np\n",
    "import pandas as pd\n",
    "import random\n",
    "import spacy\n",
    "from tqdm.auto import tqdm\n",
    "from spacy.tokens import DocBin\n",
    "from spacy.util import minibatch\n",
    "from spacy.training.example import Example\n",
    "nlp = spacy.blank('en')\n",
    "from sklearn.model_selection import train_test_split"
   ]
  },
  {
   "cell_type": "code",
   "execution_count": 2,
   "metadata": {},
   "outputs": [
    {
     "data": {
      "text/plain": [
       "1"
      ]
     },
     "execution_count": 2,
     "metadata": {},
     "output_type": "execute_result"
    }
   ],
   "source": [
    "textcat = nlp.add_pipe('textcat')\n",
    "textcat.add_label(\"1700\")\n",
    "textcat.add_label(\"1800\")\n",
    "textcat.add_label(\"1900\")\n",
    "textcat.add_label(\"2000\")"
   ]
  },
  {
   "cell_type": "code",
   "execution_count": 23,
   "metadata": {},
   "outputs": [
    {
     "name": "stdout",
     "output_type": "stream",
     "text": [
      "                                        cleaned_html  label\n",
      "1  1 U.S. 20 1 Dall. 20 1 L.Ed. 19 ANONYMOUS. No....   1700\n",
      "2  1 U.S. 18 1 Dall. 18 1 L.Ed. 18 The Lessee of ...   1700\n",
      "3  1 U.S. 194 1 Dall. 194 1 L.Ed. 96 Gerardv.La C...   1700\n",
      "4  1 U.S. 210 1 Dall. 210 1 L.Ed. 104 Pollardv.Sh...   1700\n",
      "5  2 U.S. 97 2 Dall. 97 1 L.Ed. 305 Pringlev.Blac...   1700\n",
      "(60055, 2)\n"
     ]
    }
   ],
   "source": [
    "df = pd.read_json('training_json_file.json')\n",
    "df.head()\n",
    "df['cleaned_html'].replace('', np.nan, inplace=True)\n",
    "df.dropna(subset=['cleaned_html'], inplace=True)\n",
    "print(df.head())\n",
    "print(df.shape)\n"
   ]
  },
  {
   "cell_type": "code",
   "execution_count": 25,
   "metadata": {},
   "outputs": [
    {
     "data": {
      "text/plain": [
       "[('1 U.S. 20 1 Dall. 20 1 L.Ed. 19 ANONYMOUS. No. ____. Supreme Court of Pennsylvania September Term, 1773.  John Fisher, having two sons and a Daughter, made his will, and devised a plantation to his son Matthias in fee. Matthias dies in his minority, intestate, and without issue. Question: whether his heirs at common law shall take; or it shall divide among his other brothers and sisters, under the supplemental intestate law of this Province? On a trial in ejectment for the plantation, it was agreed by council, that the opinion of the Court should be conclusive to the Jury. Mr. Justice WILLING and Justice LAWRENCE were of opinion, and so delivered it to the Jury, that the estate should be divided: and the plaintiff suffered a nonsuit.*    *  Determined at Bucks, Ni, Pri. 15 Oct. 1773.   ',\n",
       "  1700)]"
      ]
     },
     "execution_count": 25,
     "metadata": {},
     "output_type": "execute_result"
    }
   ],
   "source": [
    "df['tuples'] = df.apply(lambda row: (row['cleaned_html'], row['label']), axis=1)\n",
    "train = df['tuples'].tolist()\n",
    "train[:1]"
   ]
  },
  {
   "cell_type": "code",
   "execution_count": 30,
   "metadata": {},
   "outputs": [
    {
     "data": {
      "text/plain": [
       "[('401 U.S. 233 91 S.Ct. 609 28 L.Ed.2d 10 INTERNATIONAL BROTHERHOOD OF BOILERMAKERS, IRON  SHIPBUILDERS, BLACKSMITHS, FORGERS AND HELPERS,  AFL-CIO, Petitioner,v.George W. HARDEMAN. No. 123. Argued Dec. 16, 1970. Decided Feb. 24, 1971.  Syllabus Respondent, who was a member of petitioner union, assaulted the business manager of his local for allegedly failing to refer him for a job, and was tried for this conduct by the union on charges of (1) creating dissension, and working against the interest and harmony of the local, which carried a penalty of expulsion, and (2) of threatening and using force to restrain an officer from discharging the duties of his union office, punishable \\'as warranted by the offense.\\' He was found \\'guilty as charged\\' and expelled for an indefinite period. He later brought suit for damages alleging that petitioner violated § 101(a)(5) of the Labor-Management Reporting and Disclosure Act by denying him a full and fair hearing in the disciplinary proceedings. The District Judge found that there was no transcript evidence to support the charge of creating dissension, and since the union tribunal had returned only a general verdict, held that respondent was deprived of the statutory \\'full and fair hearing.\\' The Court of Appeals affirmed. Certiorari was granted to consider whether the subject matter was pre-empted because exclusively within the competence of the National Labor Relations Board, or, if not, whether the courts below had applied the proper standard of review. Held: 1. This action was within the competence of the District Court, as the issues here are whether respondent was denied rights guaranteed him by § 101(a)(5), and, if so, his consequent entitlement, pursuant to the federal statute, to damages for that denial, questions that are irrelevant to the legality of conduct under the National Labor Relations Act. Pp. 237—241. 2. Section 101(a)(5) does not empower courts to determine what conduct may warrant disciplinary action by a union against its members. Pp. 242—245. 3. The statutory \\'full and fair hearing\\' requires that the charging party provide some evidence at the hearing to support the charges, and here there was sufficient evidence to support the finding that respondent attacked the business manager as charged. Pp. 245—247. 420 F.2d 485, reversed. Louis Sherman, Washington, D.C., for petitioner. Robert E. McDonald, Jr., Mobile, Ala., for respondent. Mr. Justice BRENNAN delivered the opinion of the Court.   1 Section 102 of the Labor-Management Reporting and Disclosure Act (hereafter LMRDA) provides that a union member who charges that his union violated his rights under Title I of the Act may bring a civil action against the union in a district court of the United States for appropriate relief.1 Respondent was expelled from membership in petitioner union and brought this action under § 102 in the District Court for the Southern District of Alabama. He alleged that in expelling him the petitioner violated § 101(a)(5) of the Act, 73 Stat. 523, 29 U.S.C. § 411(a)(5) which provides: \\'No member of any labor organization may be fined, suspended, expelled, or otherwise disciplined except for nonpayment of dues by such organization or by any officer thereof unless such member has been (A) served with written specific charges; (B) given a reasonable time to prepare his defense; (C) afforded a full and fair hearing.\\' A jury awarded respondent damages of $152,150. The Court of Appeals for the Fifth Circuit affirmed. 420 F.2d 485 (1969).2 We granted certiorari limited to the questions whether the subject matter of the suit was pre-empted because exclusively within the competence of the National Labor Relations Board and, if not pre-empted, whether the courts below had applied the proper standard of review to the union proceedings, 398 U.S. 926, 90 S.Ct. 1816, 26 L.Ed.2d 88 (1970). We reverse.   2 The case arises out of events in the early part of October 1960. Respondent, George Hardeman, is a boilermaker. He was then a member of petitioner\\'s Local Lodge 112. On October 3, he went to the union hiring hall to see Herman Wise, business manager of the Local Lodge and the official responsible for referring workmen for jobs. Hardeman had talked to a friend of his, an employer who had promised to ask for him by name for a job in the vicinity. He sought assurance from Wise that he would be referred for the job. When Wise refused to make a definite commitment, Hardeman threatened violence if no work was forthcoming in the next few days.   3 On October 4, Hardeman returned to the hiring hall and waited for a referral. None has forthcoming. The next day, in his words, he \\'went to the hall * * * and waited from the time the hall opened until we had the trouble. I tried to make up my mind what to do, whether to sue the Local or Wise or beat hell out of Wise, and then I made up my mind.\\' When Wise came out of his office to go to a local jobsite, as required by his duties as business manager. Hardeman handed him a copy of a telegram asking for Hardeman by name. As Wise was reading the telegram, Hardeman began punching him in the face.   4 Hardeman was tried for this conduct on charges of creating dissension and working against the interest and harmony of the Local Lodge,3 and of threatening and using force to restrain an officer of the Local Lodge from properly discharging the duties of his office.4 The trial committee found him \\'guilty as charged,\\' and the Local Lodge sustained the finding and voted his expulsion for an indefinite period. Internal union review of this action, instituted by Hardeman, modified neither the verdict nor the penalty. Five years later, Hardeman brought this suit alleging that petitioner violated § 101(a)(5) by denying him a full and fair hearing in the union disciplinary proceedings.   5 * We consider first the union\\'s claim that the subject matter of this lawsuit is, in the first instance, within the exclusive competence of the National Labor Relations Board. The union argues that the gravamen of Hardeman\\'s complaint—which did not seek reinstatement, but only damages for wrongful expulsion, consisting of loss of income, loss of pension and insurance rights, mental anguish and punitive damages—is discrimination against him in job referrals; that any such conduct on the part of the union is at the very least arguably an unfair labor practice under §§ 8(b)(1)(A) and 8(b)(2) of the National Labor Relations Act, 61 Stat. 141, as amended, 29 U.S.C. §§ 158(b)(1) (A), 158(b)(2); and that in such circumstances, \\'the federal courts must defer to the exclusive competence of the National Labor Relations Board if the danger of * * * interference with national policy is to be averted.\\' San Diego Building Trades Council, Millmen\\'s Union, Local 2020 v. Garmon, 359 U.S. 236, 245, 79 S.Ct. 773, 780, 3 L.Ed.2d 775 (1959); see Local 100 of United Ass\\'n of Journeymen and Apprentices v. Borden, 373 U.S. 690, 83 S.Ct. 1423, 10 L.Ed.2d 638 (1963).   6 We think the union\\'s argument is misdirected. Hardeman\\'s complaint alleged that his expulsion was unlawful under § 101(a)(5), and sought compensation for the consequences of the claimed wrongful expulsion. The critical issue presented by Hardeman\\'s complaint was whether the union disciplinary proceedings had denied him a full and fair hearing within the meaning of § 101(a)(5)(C).5 Unless he could establish this claim, Hardeman would be out of court. We hold that this claim was not within the exclusive competence of the National Labor Relations Board.   7 \"The doctrine of primary jurisdiction * * * applies where a      claim is originally cognizable in the courts, and comes into      play whenever enforcement of the claim requires the      resolution of issues which, under a regulatory scheme, have      been placed within the special competence of an      administrative body; in such a case the judicial process is      suspended pending referral of such issues to the      administrative body for its views.\\' United States v. Western      Pac. R. Co., 352 U.S. 59, 63—64, 77 S.Ct. 161, 165, 1 L.Ed.2d      126. The doctrine is based on the principle \\'that in cases      raising issues of fact not within the conventional experience      of judges or cases requiring the exercise of administrative      discretion, agencies created by Congress for regulating the      subject matter should not be passed over.\\' Far East      Conference v. United States, 342 U.S. 570, 574, 72 S.Ct. 492,      494, 96 L.Ed. 576, and \\'requires judicial abstention in cases      where protection of the integrity of a regulatory scheme      dictates preliminary resort to the agency which administers      the scheme,\\' United States v. Philadelphia Nat. Bank, 374      U.S. 321, 353, 83 S.Ct. 1715, 1736, 10 L.Ed.2d 915.\\' Local      Union No. 189, Amalgamated Meat Cutters, etc. v. Jewel Tea      Co., 381 U.S. 676, 684—685, 85 S.Ct. 1596, 1599, 14 L.Ed.2d      640 (1965) (opinion of White, J., announcing judgment).   8 Those factors suggesting that resort must be had to the administrative process are absent from the present case. The fairness of an internal union disciplinary proceeding is hardly a question beyond \\'the conventional experience of judges,\\' nor can it be said to raise issues \\'within the special competence\\' of the NLRB. See N.L.R.B. v. Allis-Chalmers Mfg. Co., 388 U.S. 175, 181, 193—194, 87 S.Ct. 2001, 2007, 2013—2014, 18 L.Ed.2d 1123 (1967). As we noted in that case, the 86th Congress which enacted § 101(a)(5) was \\'plainly of the view\\' that the protections embodied therein were new material in the body of federal labor law. 388 U.S. at 194, 87 S.Ct. at 2014. And that same Congress explicitly referred claims under § 101(a)(5), not to the NLRB, but to the federal district courts. This is made explicit in the opening sentence of § 102: \\'Any person whose rights secured by the provisions of this title have been infringed by any violation of this title may bring a civil action in a district court of the United States for such relief (including injunctions) as may be appropriate.\\' Of course, \\'(t)he purpose of Congress is the ultimate touchstone.\\' Retail Clerks International Ass\\'n, Local 1625, AFL—CIO v. Schermerhorn, 375 U.S. 96, 103, 84 S.Ct. 219, 223, 11 L.Ed.2d 179 (1963). And in § 102 Congress has clearly indicated a purpose to refer claims regarding violation of § 101(a)(5) to the district courts.   9 The union argues that Hardeman\\'s suit should nevertheless have been dismissed because he did not seek an injunction restoring him to membership, and because he did seek damages for loss of employment said to be the consequence of his expulsion from the union. Taken together, these factors are said to shift the primary focus of the action from a review of Hardeman\\'s expulsion to a review of alleged union discrimination against him in job referrals. Since this is a matter normally within the exclusive competence of the NLRB, see Local 100 of United Ass\\'n of Journeymen and Apprentices v. Borden, 373 U.S., at 695—696, 83 S.Ct., at 1426—1427, the union argues that Hardeman\\'s suit was beyond the competence of the district court.   10 The argument has no merit. To begin with, the language of § 102 does not appear to make the availability of damages turn upon whether an injunction is requested as well. If anything, § 102 contemplates that damages will be the usual, and injunctions the extraordinary form of relief. Requiring that injunctive relief be sought as a precondition to damages would have little effect other than to force plaintiffs, as a matter of course, to add a few words to their complaints seeking an undesired injunction. We see no reason to import into § 102 so trivial a requirement.   11 Nor are our prior cases authority for such a result. We have repeatedly held, of course, that state law may not regulate conduct either protected or prohibited by the National Labor Relations Act. Local 100 of United Ass\\'n of Journeymen and Apprentices v. Borden, supra; San Diego Building Trades Council, Millmen\\'s Union, Local 2020 v. Garmon, 359 U.S., at 244, 79 S.Ct., at 779; Weber v. Anheuser-Busch, Inc., 348 U.S. 468, 480—481, 75 S.Ct. 480, 487—488, 99 L.Ed. 546 (1955); Garner v. Teamsters, etc., Union, 346 U.S. 485, 490—491, 74 S.Ct. 161, 165—166, 98 L.Ed. 228 (1953). Where it has not been clear whether particular conduct is protected, prohibited, or left to state regulation by that Act, we have likewise required courts to stay their hand, for \\'courts are not primary tribunals to adjudicate such issues. It is essential to the administration of the Act that these determinations be left in the first instance to the National Labor Relations Board.\\' San Diego Building Trades Council, etc. v. Garmon, supra, 359 U.S., at 244—245, 79 S.Ct., at 779. Nor may courts intervene in such matters even to apply the National Labor Relations Act, except by the normal mechanism or review of actions of the NLRB. For recognizing that \\'(a) multiplicity of tribunals and a diversity of procedures are quite as apt to produce incompatible or conflicting adjudications as are different rules of substantive law,\\' Garner v. Teamsters, etc., Union, supra, 346 U.S., at 490—491, 74 S.Ct., at 166, Congress confided to the NLRB the primary power of interpretation and application of the Act. See Guss v. Utah Labor Relations Board, 353 U.S. 1, 77 S.Ct. 598, 1 L.Ed.2d 601 (1957).   12 The present case, however, implicates none of the principles discussed above. There is no attempt, in this lawsuit, to apply state law to matters pre-empted by federal authority. Nor is there an attempt to apply federal law of general application, which is limited in the particular circumstances by the National Labor Relations Act. Nor is there an attempt to have the District Court enforce the provisions of the National Labor Relations Act itself, without guidance from the NLRB. As we have said, the critical question in this action is whether Hardeman was afforded the rights guaranteed him by § 101(a)(5) of the LMRDA. If he was denied them, Congress has said that he is entitled to damages for the consequences of that denial. Since these questions are irrelevant to the legality of conduct under the National Labor Relations Act, there is no danger of conflicting interpretation of its provisions. And since the law applied is federal law explicitly made applicable to such circumstances by Congress, there is no danger that state law may come in through the back door to regulate conduct that has been removed by Congress from state control. Accordingly, this action was within the competence of the District Court.6  II  13 Two charges were brought against Hardeman in the union disciplinary proceedings. He was charged with violation of Art. XIII, § 1, of the Subordinate Lodge Constitution, which forbids attempting to create dissension or working against the interest and harmony of the union, and carries a penalty of expulsion.7 He was also charge with violation of Art. XII, § 1, of the Subordinate Lodge By-Laws, which forbids the threat or use of force against any officer of the union in order to prevent him from properly discharging the duties of his office; violation may be punished \\'as warranted by the offense.\\'8 Hardeman\\'s conviction on both charges was upheld in internal union procedures for review.   14 The trial judge instructed the jury that \\'whether or not be (respondent) was rightfully or wrongfully discharged or expelled is a pure question of law for me to determine.\\' He assumed, but did not decide, that the transcript of the union disciplinary hearing contained evidence adequate to support conviction of violating Art. XII. He held, however, that there was no evidence at all in the transcript of the union disciplinary proceedings to support the charge of violating Art. XIII. This holding appears to have been based on the Fifth Circuit\\'s decision in International Brotherhood of Boilermakers v. Braswell, 388 F.2d 193 (CA5 1968). There the Court of Appeals for the Fifth Circuit had reasoned that \\'penal provisions in union constitutions must be strictly construed,\\'9 and that as so construed Art. XIII was directed only to \\'threats to the union as an organization and to the effective carrying out of the union\\'s aims,\\' not to merely personal altercations. 388 F.2d at 199. Since the union tribunal had returned only a general verdict, and since one of the charges was thought to be supported by no evidence whatsoever, the trial judge held that Hardeman had been deprived of the full and fair hearing guaranteed by § 101(a)(5).10 The Court of Appeals affirmed, simply citing Braswell. 420 F.2d 485 (CA5 1969).   15 We find nothing in either the language or the legislative history of § 101(a) (5) that could justify such a substitution of judicial for union authority to interpret the union\\'s regulations in order to determine the scope of offenses warranting discipline of union members. Section 101(a)(5) began life as a floor amendment to S. 1555, the Kennedy-Ervin Bill, in the 86th Congress. As proposed by Senator McClellan, and as adopted by the Senate on April 22, 1959, the amendment would have forbidden discipline of union members \\'except for breach of a published written rule of (the union).\\' 105 Cong.Rec. 6476, 6492—6493. But this language did not long survive. Two days later, a substitute amendment was offered by Senator Kuchel, who explained that further study of the McClellan amendment had raised \\'some rather vexing questions.\\' Id., at 6720. The Kuchel substitute, adopted the following day, deleted the requirement that charges be based upon a previously published, written union rule; it transformed Senator McClellan\\'s amendment, in relevant part, into the present language of § 101(a)(5). Id., at 6720, 6727. As so amended, S. 1555 passed the Senate on April 25. Id., at 6745. Identical language was adopted by the House, Id., at 15884, 15891, and appears in the statute as finally enacted.   16 The Congress understood that Senator Kuchel\\'s amendment was intended to make substantive changes in Senator McClellan\\'s proposal. Senator Kennedy had specifically objected to the McClellan amendment because   17 \\'In the case of * * * the * * * official who bribed a judge,      unless there were a specific prohibition against bribery of      judicial officers written into the constitution of the union,      then no union could take disciplinary action against (an)      officer or member guilty of bribery.   18 \\'It seems to me that we can trust union officers to run their      affairs better than that.\\' Id., at 6491.   19 Senator Kuchel described his substitute as merely providing \\'the usual reasonable constitutional basis\\' for union disciplinary proceedings: union members were to have \\'constitutionally reasonable notice and a reasonable hearing.\\' Id., at 6720. After the Kuchel amendment passed the Senate, Senator Goldwater explained it to the House Committee on Labor and Education as follows:   20 \\'(T)he bill of rights in the Senate bill requires that the      union member be served with written specific charges prior to      any disciplinary proceedings but it does not require that      these charges, to be valid, must be based on activity that      the union had proscribed prior to the union member having      engaged in such activity.\\' Labor-Management Reform      Legislation, Hearings before a Joint Subcommittee of the      House Committee on Education and Labor, 86th Cong., 1st      Sess., pt. 4, p. 1595 (1959).   21 And Senator McClellan\\'s testimony was to the same effect. Id., pt. 5, pp. 2235—2236, 2251, 2285.   22 We think that this is sufficient to indicate that § 101(a)(5) was not intended to authorize courts to determine the scope of offenses for which a union may discipline its members.11 And if a union may discipline its members for offenses not proscribed by written rules at all, it is surely a futile exercise for a court to construe the written rules in order to determine whether particular conduct falls within or without their scope.   23 Of course, § 101(a)(5)(A) requires that a member subject to discipline be \\'served with written specific charges.\\' These charges must be, in Senator McClellan\\'s words, \\'specific enough to inform the accused member of the offense that he has allegedly committed.\\'12 Where, as here, the union\\'s charges make reference to specific written provisions, § 101(a)(5)(A) obviously empowers the federal courts to examine those provisions and determine whether the union member had been misled or otherwise prejudiced in the presentation of his defense. But it gives courts no warrant to scrutinize the union regulations in order to determine whether particular conduct may be punished at all.   24 Respondent does not suggest, and we cannot discern, any possibility of prejudice in the present case. Although the notice of charges with which he was served does not appear as such in the record, the transcript of the union hearing indicates that the notice did not confine itself to a mere statement or citation of the written regulations that Hardeman was said to have violated: the notice appears to have contained a detailed statement of the facts relating to the fight that formed the basis for the disciplinary action,13 Section 101(a)(5) requires no more.  III  25 There remains only the question whether the evidence in the union disciplinary proceeding was sufficient to support the finding of guilt. Section 101(a)(5) (C) of the LMRDA guarantees union members a \\'full and fair\\' disciplinary hearing, and the parties and the lower federal courts are in full agreement that this guarantee requires the charging party to provide some evidence at the disciplinary hearing to support the charges made.14 This is the proper standard of judicial review. We have repeatedly held that conviction on charges unsupported by any evidence is a denial of due process, Thompson v. City of Louisville, 362 U.S. 199, 206, 80 S.Ct. 624, 629, 4 L.Ed.2d 654 (1960); Schware v. Board of Bar Examiners, 353 U.S. 232, 246—247, 77 S.Ct. 752, 760—761, 1 L.Ed.2d 796 (1957); United States ex rel. Vajtauer v. Commissioner of Immigration, 273 U.S. 103, 106, 47 S.Ct. 302, 304, 71 L.Ed. 560 (1927); United States ex rel. Tisi v. Tod, 264 U.S. 131, 133—134, 44 S.Ct. 260, 261, 68 L.Ed. 590 (1924); and we feel that § 101(a)(5)(C) may fairly be said to import a similar requirement into union disciplinary proceedings. Senator Kuchel, who first introduced the provision, characterized it on the Senate floor as requiring the \\'usual reasonable constitutional basis\\' for disciplinary action, 105 Cong.Rec. 6720, and any lesser standard would make useless § 101(a)(5)(A)\\'s requirement of written, specific charges. A stricter standard, on the other hand, would be inconsistent with the apparent congressional intent to allow unions to govern their own affairs, and would require courts to judge the credibility of witnesses on the basis of what would be at best a cold record.15   26 Applying this standard to the present case, we think there is no question that the charges were adequately supported. Respondent was charged with having attacked Wise without warning, and with continuing to beat him for some time. Wise so testified at the disciplinary hearing, and his testimony was fully corroborated by one other witness to the altercation. Even Hardeman, although he claimed he was thereafter held and beaten, admitted having struck the first blow. On such a record there is no question but that the charges were supported by \\'some evidence.\\'   27 Reversed.   28 Mr. Justice WHITE, concurring.   29 The Court accurately states the holdings in San Diego Building Trades Council, etc. v. Garmon, 359 U.S. 236, 79 S.Ct. 773, 3 L.Ed.2d 775 (1959), and like cases. But since the case before us \\'implicates none of the principles,\\' ante, at 240, announced in those cases, neither is their continuing validity in their full sweep reaffirmed by today\\'s opinion. On this basis, I join the Court\\'s opinion.   30 I add an additional note. As the Court says, Hardeman\\'s conviction on both charges against him was upheld. Expulsion was warranted on either count. The principle of Stromberg v. California, 283 U.S. 359, 51 S.Ct. 532, 75 L.Ed. 1117 (1931), has no application in this situation. Turner v. United States, 396 U.S. 398, 420, 90 S.Ct. 642, 654, 24 L.Ed.2d 610 (1970); Barenblatt v. United States, 360 U.S. 109, 115, 79 S.Ct. 1081, 1087, 3 L.Ed.2d 1115 (1959); Claassen v. United States, 142 U.S. 140, 146—147, 12 S.Ct. 169, 170—171, 35 L.Ed. 966 (1891); see also cases cited in Street v. New York, 394 U.S. 576, 613 n. 2, 89 S.Ct. 1354, 1376, 22 L.Ed.2d 572 (1969) (White, J., dissenting).   31 Mr. Justice DOUGLAS, dissenting.   32 Section 102 of the Landrum-Griffin Act, 73 Stat. 523, 29 U.S.C. § 412, gives a member of a union the right of civil redress in a federal district court against his union for infringement of his rights secured by the Act1 at the same time § 103, 29 U.S.C. § 413, reserves to members any remedies they may have \\'under any State or Federal law or before any court or other tribunal, or under the constitution and bylaws\\' of their unions. Moreover, § 101(a)(5), 29 U.S.C. § 411(a)(5),2 provides that, except for nonpayment of dues, no member of a labor organization may be expelled or disciplined until there has been notice and a fair hearing.   33 The latter right is not exclusive, for as noted the Act gives members remedies for infringement of rights under the Act or under the constitution and bylaws of the union.   34 In the present case respondent went to one Wise, in charge of referral of men to jobs through the union hiring hall, and during the discussion which followed there was an altercation in which respondent hit Wise. For that assault respondent was fined in a criminal court. Thereupon Wise filed charges against respondent for violations of one provision of the union\\'s bylaws3 and one provision of the union\\'s constitution.4   35 At a hearing before a committee of the local lodge which Hardeman attended it was determined that respondent was \\'guilty as charged.\\' That determination was approved by the membership of the local which voted to suspend him from membership \\'indefinitely.\\'   36 Respondent appealed to the International Union, petitioner here. Acting through its present and its international executive council it denied the appeal.   37 Thereafter respondent sued International for consequential and punitive damages. The case was tried by a jury which returned a verdict of $152,150 and the Court of Appeals affirmed. 420 F.2d 485.   38 There was evidence that there was a grudge between Wise and respondent, out of which the fist fight occurred. And there was evidence that the force or violence was an attempt to coerce Wise \\'to prevent him from properly discharging the duties of his office\\' within a rational meaning of the bylaws of the union.5 And the District Court so charged the jury. But, as the District Court ruled, there was no evidence that respondent endeavored \\'to create dissension among the members\\' or to work against the \\'interest and harmony\\' of the union within the meaning of Art. XIII of the constitution.6   39 I agree that a court does not sit in review of a union as it does of an administrative agency. But by reason of § 101(a)(5) judicial oversight is much more than procedural; it provides in subsection (C) for \\'a full and fair hearing.\\' Even if even conceivable procedural guarantee is provided, a hearing is not \\'fair\\' when all substantive rights are stripped away to reach a pre-ordained result. If there is to be a \\'fair hearing\\' there must, I submit, be some evidence directed to the charges to support the conclusion.   40 Membership in a union may be the key to livelihood itself.7 Without membership, the member may be cast into the outer darkness, so far as employment is concerned. Just as this Court concluded Congress did not authorize exclusive bargaining agents to make invidious discriminations, Steele v. Louisville & Nashville R. Co., 323 U.S. 192, 65 S.Ct. 226, 89 L.Ed. 173, it is unthinkable to me that Congress in designing § 101(a)(5) gave unions the authority to expel members for such reasons as they chose. For courts to lend their hand to such oppressive practices is to put the judicial imprimatur on the union\\'s utter disregard of due process to reach its own ends.   41 In International Brotherhood of Boilermakers v. Braswell, arising out of the same incident, the Court of Appeals followed that reasoning. 388 F.2d 193, 199. It said:   42 \\'(T)he act charged to Braswell was a blow struck in anger,      and nothing more. However reprehensible this act may be, it      did not constitute a violation of the provisions in the      charges. Article XIII, Section 1 of the constitution on its      face is directed at threats to the union as an organization      and to the effective carrying out of the union\\'s aims.      Braswell\\'s fist was not such a threat.\\'   43 As stated by a student in this area: \\'(H)ow can there be a \\'full and fair hearing\\' when it results in a verdict which mocks the evidence?\\'8 Of course, the reviewing court does not give a hearing de novo; nor does it review the merits of the dispute. But it does sit to check intemperate use of union power; and if it is to discharge its duties, it must conclude that there is some evidence to sustain the charge. This is the view of the Second, Third, and Fifth Circuits, Vars v. International Brotherhood of Boilermakers, 320 F.2d 576; Kelsey v. Philadelphia Local No. 8, 419 F.2d 491; International Brotherhood of Boilermakers v. Braswell, 388 F.2d 193, and I would adopt it as the controlling legal principle.   44 Violation of Art. XIII of the constitution carries with it automatic expulsion. Violation of the bylaws would carry punishment \\'as warranted by the offense,\\' which, I assume, would justify expulsion. For respondent to use force against Wise who was in charge of referral of men to jobs through the union hiring hall may well have been an attempt \\'to prevent him from properly discharging the duties of his office\\' within the meaning of Art. XII. But how an isolated first fight could \\'create dissension\\' among union members or work against the union\\'s interests in the other ways described in Art. XIII remains a mystery.   45 The finding of the union was the general one \\'guilty as charged.\\' Under which provision—constitution or bylaw—it suspended him indefinitely is not made clear. Perhaps it was under only one or perhaps under both provisions.   46 In that posture the case is in the category of Stromberg v. California, 283 U.S. 359, 51 S.Ct. 532, 75 L.Ed. 1117, where a conviction might have been valid under one charge but would have been invalid under the other; but the verdict being a general one, it was impossible to tell under which he was convicted. It is as much a denial of due process to sustain a conviction merely because a verdict of guilty might have been rendered on a valid ground as it is to send an accused to prison following conviction of a charge on which he was never tried. Cole v. Arkansas, 333 U.S. 196, 201, 68 S.Ct. 514, 517, 92 L.Ed. 644. It was in that tradition that the District Court charged the jury:9   47 \\'Now, that is all they charged him with were those two      sections and there is nothing in this record that would      justify a finding of guilty under those sections. All of it      is about the fight.   48 \\'I am telling you, as a matter of law, that under the proof,      the finding which resulted in his being expelled, cannot      legally stand and therefore he was wrongfully expelled.\\'      (Emphasis added.)   49 Since the finding of \\'guilty as charged\\' had that infirmity, it could not stand; and the jury was justified in assessing damages for an unlawful expulsion.10    1  Section 102 of the Act, 73 Stat. 523, 29 U.S.C. § 412, provides: \\'Any person whose rights secured by the provisions of this title have been infringed by any violation of this title may bring a civil action in a district court of the United States for such relief (including injunctions) as may be appropriate. Any such action against a labor organization shall be brought in the district court of the United States for the district where the alleged violation occurred, or where the principal office of such labor organization is located.\\'   2  The affirmance was on the basis of International Brotherhood of Boilermakers v. Braswell, 388 F.2d 193 (CA5 1968).   3  Article XIII, § 1, of the Subordinate Lodge Constitution then in force provided: \\'Any member who endeavors to create dissension among the members; or who works against the interest and harmony of the International Brotherhood or of any District or Subordinate Lodge; who advocates or encourages a division of the funds, or the dissolution of any District or Subordinate Lodge, or the separation of any District or Subordinate Lodge from the International Brotherhood; who supports or becomes a member of any dual or subversive organization which shall be hostile to the International Brotherhood or to any of its Subordinate Lodges, or which is antagonistic to the principles and purposes of the International Brotherhood, shall upon conviction thereof be punished by expulsion from the International Brotherhood.\\'   4  Article XII, § 1, of the Subordinate Lodge By-Laws then in force provided that: \\'It shall be a violation of these By-Laws for any member through the use of force or violence or the threat of the use of force or violence to restrain, coerce or intimidate, or attempt to restrain, coerce or intimidate any official of this International Brotherhood or Subordinate Lodge to prevent or attempt to prevent him from properly discharging the duties of his office.\\' Violators of Art. XII are to \\'be punished as warranted by the offense.\\'   5  Hardeman\\'s complaint did not claim that the charges were insufficiently specific, or that he did not have adequate time to prepare his defense in the union proceedings.   6  See International Brotherhood of Boilermakers v. Braswell, 388 F.2d 193, at 195—197 (CA5 1968). Accord, Rekant v. Shochtay-Gasos Union Local 446, 320 F.2d 271, 273—275 (CA3 1963); Parks v. International Brotherhood of Electrical Workers, 314 F.2d 886, 922—923 (CA4 1963); Addison v. Grand Lodge of International Ass\\'n of Machinists, 300 F.2d 863 (CA9 1962); Grand Lodge of International Ass\\'n of Machinists v. King, 335 F.2d 340, 346—347 (CA9 1964).   7  See n. 3, supra.   8  See n. 4, supra.   9  388 F.2d, at 198, quoting Allen v. International Alliance of Theatrical, Stage Employees, 338 F.2d 309, 316 (CA5 1964).   10  This reasoning was noted but not specifically endorsed in Braswell, 388 F.2d, at 198.   11  State law, in many circumstances, may go further. See Summers, The Law of Union Discipline: What the Courts Do in Fact, 70 Yale L.J. 175 (1960). But Congress, which preserved state law remedies by § 103 of the LMRDA, 29 U.S.C. § 413, was well aware that even the broad language of Senator McClellan\\'s original proposal was more limited in scope than much state law. See 105 Cong.Rec. 6481—6489 (1959).   12  Labor-Management Reform Legislation, Hearings before a Joint Subcommittee of the House Committee on Education and Labor, 86th Cong., 1st Sess., pt. 5, p. 2285.   13  See tr. of union disciplinary hearing 26—28, 76.   14  Vars v. International Brotherhood of Boilermakers, 320 F.2d 576 (CA2 1963); Rosen v. District Council No. 9 of New York City of Brotherhood of Painters, 198 F.Supp. 46 (SDNY 1961), appeal dismissed, 326 F.2d 400 (CA2 1964); Lewis v. American Federation of State, County and Municipal Employees, 407 F.2d 1185 (CA3 1969); International Brotherhood of Boilermakers v. Braswell, 388 F.2d 193 (CA5 1968); Burke v. International Brotherhood of Boilermakers, 417 F.2d 1063 (CA9 1969), affirming 302 F.Supp. 1345 (ND Cal.1967).   15  Although a transcript was made of the union proceedings in the present case, we have no reason to believe that this is a universal practice.   1  Section 102 provides: \\'Any person whose rights secured by the provisions of this title have been infringed by any violation of this subchapter may bring a civil action in a district court of the United States for such relief (including injunctions) as may be appropriate. Any such action against a labor organization shall be brought in the district court of the United States for the district where the alleged violation occurred, or where the principal office of such labor organization is located.\\' (Emphasis added.)   2  Section 101(a)(5) provides: \\'No member of any labor organization may be fined, suspended, expelled, or otherwise disciplined except for nonpayment of dues by such organization or by any officer thereof unless such member has been (A) served with written specific charges; (B) given a reasonable time to prepare his defense; (C) afforded a full and fair hearing.\\'   3  Article XII of the bylaws provides: \\'In addition to the offenses and penalties set out in the applicable provisions of the International and Subordinate Lodge Constitution, the following offenses and penalties shall be observed in this Subordinate Lodge, and any member who violates same shall, if found guilty after proper hearing as provided herein, be punished as warranted by the offense. \\'(1) It shall be a violation of these By-Laws for any member through the use of force or violence or the threat of the use of force or violence to restrain, coerce or intimidate, or attempt to restrain, coerce or intimidate any official of this International Brotherhood or Subordinate Lodge to prevent or attempt to prevent him from properly discharging the duties of his office.\\'   4  Article XIII, § 1 of the constitution provides: \\'Any member who endeavors to create dissension among the members; or who works against the interest and harmony of the International Brotherhood or of any District or Subordinate Lodge; who advocates or encourages a division of the funds, or the dissolution of any District or Subordinate Lodge, or the separation of any District or Subordinate Lodge from the International Brotherhood; who supports or becomes a member of any dual or subversive organization which shall be hostile to the International Brotherhood or to any of its Subordinate Lodges, or which is antagonistic to the principles and purposes of the International Brotherhood, shall upon conviction thereof be punished by expulsion from the International Brotherhood.\\'   5  See n. 3, supra.   6  See n. 4, supra.   7  Hardeman testified at trial that following the loss of his union card he was unable to work in the boilermaker\\'s trade beyond one job lasting five days.   8  Christensen, Union Discipline Under Federal Law: Institutional Dilemmas in an Industrial Democracy, 43 N.Y.U.L.Rev. 227, 251.   9  The Court of Appeals affirmed summarily on the basis of International Brotherhood of Boilermakers v. Braswell, 388 F.2d 193, a case arising out of the same factual situation, as Braswell also assaulted Wise at the time respondent assaulted him. In Braswell, the Court of Appeals found that the blow was \\'struck in anger, and nothing more.\\' Hence it held that Braswell\\'s fist was not used as an effort to create dissension among members within the meaning of Art. XIII of the constitution. By its summary affirmance in the present case it presumably reached the same conclusion in the present case.   10  It is urged that since respondent\\'s complaint arose out of his effort to obtain employment, his relief may be sought only from the National Labor Relations Board. See San Diego Building Trades Council v. Garmon, 359 U.S. 236, 79 S.Ct. 773, 3 L.Ed.2d 775; Local 100 of United Ass\\'n of Journeymen and Apprentices v. Borden, 373 U.S. 690, 83 S.Ct. 1423, 10 L.Ed.2d 638; Local No. 207, etc. v. Perko, 373 U.S. 701, 83 S.Ct. 1429, 10 L.Ed.2d 646. The argument is that the expulsion of respondent was \\'arguably\\' an unfair labor practice and that exclusive jurisdiction therefore was with the Board. But Garmon prevents conflicts between federal and state policy. If there is a conflict in the present case, it is between two federal agencies; and Congress has declared in § 102 of the Landrum-Griffin Act that the federal courts, not the Board, are to have the primary role.   ',\n",
       "  {'cats': {'cats': {'1700': False,\n",
       "     '1800': False,\n",
       "     '1900': True,\n",
       "     '2000': False}}})]"
      ]
     },
     "execution_count": 30,
     "metadata": {},
     "output_type": "execute_result"
    }
   ],
   "source": [
    "def load_data(limit=0, split=0.8):\n",
    "    train_data=train\n",
    "    # Shuffle the data\n",
    "    random.shuffle(train_data)\n",
    "    texts, labels = zip(*train_data)\n",
    "    # get the categories for each review\n",
    "    cats = [{\"cats\": {\"1700\": label == 1700,\n",
    "                        \"1800\": label==1800,\n",
    "                        \"1900\": label==1900,\n",
    "                        \"2000\": label==2000}} for label in labels]\n",
    "\n",
    "    # Splitting the training and evaluation data\n",
    "    split = int(len(train_data) * split)\n",
    "    return (texts[:split], cats[:split]), (texts[split:], cats[split:])\n",
    "\n",
    "n_texts=60055\n",
    "\n",
    "# Calling the load_data() function \n",
    "(train_texts, train_cats), (dev_texts, dev_cats) = load_data(limit=n_texts)\n",
    "\n",
    "# Processing the final format of training data\n",
    "train_data = list(zip(train_texts,[{'cats': cats} for cats in train_cats]))\n",
    "train_data[:1]"
   ]
  },
  {
   "cell_type": "code",
   "execution_count": 31,
   "metadata": {},
   "outputs": [],
   "source": [
    "def train(model, train_data, optimizer, batch_size=8):\n",
    "    losses = {}\n",
    "    random.seed(1)\n",
    "    random.shuffle(train_data)\n",
    "    \n",
    "    # train_data is a list of tuples [(text0, label0), (text1, label1), ...]\n",
    "    for batch in minibatch(train_data, size=batch_size):\n",
    "        # Split batch into text and labels\n",
    "        for text, labels in batch:\n",
    "            doc = nlp.make_doc(text)\n",
    "            example = Example.from_dict(doc, labels)\n",
    "            # TODO: Update model with texts and labels\n",
    "            nlp.update([example], sgd=optimizer, losses = losses)\n",
    "        \n",
    "    return losses"
   ]
  },
  {
   "cell_type": "code",
   "execution_count": 32,
   "metadata": {},
   "outputs": [],
   "source": [
    "spacy.util.fix_random_seed(1)\n",
    "random.seed(1)\n",
    "\n",
    "optimizer = nlp.begin_training()\n",
    "losses = train(nlp, train_data, optimizer)\n",
    "print(losses['textcat'])"
   ]
  },
  {
   "cell_type": "code",
   "execution_count": null,
   "metadata": {},
   "outputs": [],
   "source": [
    "nlp.to_disk('saved_spacy_model_01')"
   ]
  },
  {
   "cell_type": "code",
   "execution_count": null,
   "metadata": {},
   "outputs": [],
   "source": [
    "import json\n",
    "\n",
    "with open('./texts_for_testing/test_text.json', encoding=\"utf-8\") as f:\n",
    "    test_text = json.load(f)"
   ]
  },
  {
   "cell_type": "code",
   "execution_count": null,
   "metadata": {},
   "outputs": [],
   "source": [
    "opinion_of_text = test_text['plain_text']"
   ]
  },
  {
   "cell_type": "code",
   "execution_count": null,
   "metadata": {},
   "outputs": [],
   "source": [
    "spacy_doc = nlp(opinion_of_text)"
   ]
  },
  {
   "cell_type": "code",
   "execution_count": null,
   "metadata": {},
   "outputs": [
    {
     "data": {
      "text/plain": [
       "{'1700': 0.2703966498374939,\n",
       " '1800': 0.2432011365890503,\n",
       " '1900': 0.2432011365890503,\n",
       " '2000': 0.2432011365890503}"
      ]
     },
     "execution_count": 14,
     "metadata": {},
     "output_type": "execute_result"
    }
   ],
   "source": [
    "spacy_doc.cats"
   ]
  },
  {
   "cell_type": "code",
   "execution_count": null,
   "metadata": {},
   "outputs": [
    {
     "data": {
      "text/plain": [
       "{'1700': 3.817029937636107e-05,\n",
       " '1800': 5.630177923876545e-08,\n",
       " '1900': 2.2707074549543904e-06,\n",
       " '2000': 0.9999594688415527}"
      ]
     },
     "execution_count": 26,
     "metadata": {},
     "output_type": "execute_result"
    }
   ],
   "source": [
    "with open('./texts_for_testing/test_text_1.json', encoding='utf-8') as f:\n",
    "    test_text_1 = json.load(f)\n",
    "\n",
    "opinion_of_text_01 = test_text_1['plain_text']\n",
    "spacy_doc_01 = nlp(opinion_of_text_01)\n",
    "spacy_doc_01.cats"
   ]
  },
  {
   "cell_type": "code",
   "execution_count": null,
   "metadata": {},
   "outputs": [],
   "source": []
  }
 ],
 "metadata": {
  "kernelspec": {
   "display_name": "Python 3.9.13",
   "language": "python",
   "name": "python3"
  },
  "language_info": {
   "codemirror_mode": {
    "name": "ipython",
    "version": 3
   },
   "file_extension": ".py",
   "mimetype": "text/x-python",
   "name": "python",
   "nbconvert_exporter": "python",
   "pygments_lexer": "ipython3",
   "version": "3.9.13"
  },
  "orig_nbformat": 4,
  "vscode": {
   "interpreter": {
    "hash": "75edb825c87a0a6a7d95357b6ff5e82dfc93866b13e30996819bc52b6af5b8b6"
   }
  }
 },
 "nbformat": 4,
 "nbformat_minor": 2
}
