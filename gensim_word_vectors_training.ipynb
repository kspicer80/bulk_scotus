{
 "cells": [
  {
   "cell_type": "code",
   "execution_count": 5,
   "metadata": {},
   "outputs": [],
   "source": [
    "import re\n",
    "import nltk\n",
    "import pandas as pd\n",
    "from gensim.parsing.preprocessing import remove_stopwords, preprocess_string\n",
    "from gensim.models import Word2Vec"
   ]
  },
  {
   "cell_type": "code",
   "execution_count": 6,
   "metadata": {},
   "outputs": [
    {
     "data": {
      "text/plain": [
       "\"\\ndef clean_text(text):\\n    cleaned_text = re.sub('[^a-zA-Z]', ' ', text)\\n    cleaned_text = re.sub(r'\\\\s+', ' ', cleaned_text)\\n    return(cleaned_text)\\n\""
      ]
     },
     "execution_count": 6,
     "metadata": {},
     "output_type": "execute_result"
    }
   ],
   "source": [
    "'''\n",
    "def clean_text(text):\n",
    "    cleaned_text = re.sub('[^a-zA-Z]', ' ', text)\n",
    "    cleaned_text = re.sub(r'\\s+', ' ', cleaned_text)\n",
    "    return(cleaned_text)\n",
    "'''"
   ]
  },
  {
   "cell_type": "code",
   "execution_count": 7,
   "metadata": {},
   "outputs": [],
   "source": [
    "df = pd.read_json('file_with_cleaned_html.json')"
   ]
  },
  {
   "cell_type": "code",
   "execution_count": 8,
   "metadata": {},
   "outputs": [
    {
     "data": {
      "text/html": [
       "<div>\n",
       "<style scoped>\n",
       "    .dataframe tbody tr th:only-of-type {\n",
       "        vertical-align: middle;\n",
       "    }\n",
       "\n",
       "    .dataframe tbody tr th {\n",
       "        vertical-align: top;\n",
       "    }\n",
       "\n",
       "    .dataframe thead th {\n",
       "        text-align: right;\n",
       "    }\n",
       "</style>\n",
       "<table border=\"1\" class=\"dataframe\">\n",
       "  <thead>\n",
       "    <tr style=\"text-align: right;\">\n",
       "      <th></th>\n",
       "      <th>id</th>\n",
       "      <th>supreme_court_db_id</th>\n",
       "      <th>plain_text</th>\n",
       "      <th>html</th>\n",
       "      <th>html_with_citations</th>\n",
       "      <th>label</th>\n",
       "      <th>cleaned_html</th>\n",
       "    </tr>\n",
       "  </thead>\n",
       "  <tbody>\n",
       "    <tr>\n",
       "      <th>0</th>\n",
       "      <td>2381753</td>\n",
       "      <td>None</td>\n",
       "      <td></td>\n",
       "      <td></td>\n",
       "      <td></td>\n",
       "      <td>1700</td>\n",
       "      <td></td>\n",
       "    </tr>\n",
       "    <tr>\n",
       "      <th>1</th>\n",
       "      <td>84591</td>\n",
       "      <td>None</td>\n",
       "      <td></td>\n",
       "      <td>&lt;p class=\"case_cite\"&gt;1 U.S. 20&lt;/p&gt;\\r\\n    &lt;p c...</td>\n",
       "      <td>&lt;p class=\"case_cite\"&gt;&lt;span class=\"citation no-...</td>\n",
       "      <td>1700</td>\n",
       "      <td>1 U.S. 20\\n1 Dall. 20\\n1 L.Ed. 19\\nANONYMOUS.\\...</td>\n",
       "    </tr>\n",
       "    <tr>\n",
       "      <th>2</th>\n",
       "      <td>84590</td>\n",
       "      <td>None</td>\n",
       "      <td></td>\n",
       "      <td>&lt;p class=\"case_cite\"&gt;1 U.S. 18&lt;/p&gt;\\r\\n    &lt;p c...</td>\n",
       "      <td>&lt;p class=\"case_cite\"&gt;&lt;span class=\"citation no-...</td>\n",
       "      <td>1700</td>\n",
       "      <td>1 U.S. 18\\n1 Dall. 18\\n1 L.Ed. 18\\nThe Lessee ...</td>\n",
       "    </tr>\n",
       "    <tr>\n",
       "      <th>3</th>\n",
       "      <td>84614</td>\n",
       "      <td>None</td>\n",
       "      <td></td>\n",
       "      <td>&lt;p class=\"case_cite\"&gt;1 U.S. 194&lt;/p&gt;\\n    &lt;p cl...</td>\n",
       "      <td>&lt;div&gt;\\n&lt;center&gt;&lt;b&gt;&lt;span class=\"citation no-lin...</td>\n",
       "      <td>1700</td>\n",
       "      <td>1 U.S. 194\\n1 Dall. 194\\n1 L.Ed. 96\\nGerardv.L...</td>\n",
       "    </tr>\n",
       "    <tr>\n",
       "      <th>4</th>\n",
       "      <td>84615</td>\n",
       "      <td>None</td>\n",
       "      <td></td>\n",
       "      <td>&lt;p class=\"case_cite\"&gt;1 U.S. 210&lt;/p&gt;\\r\\n    &lt;p ...</td>\n",
       "      <td>&lt;div&gt;\\n&lt;center&gt;&lt;b&gt;&lt;span class=\"citation no-lin...</td>\n",
       "      <td>1700</td>\n",
       "      <td>1 U.S. 210\\n1 Dall. 210\\n1 L.Ed. 104\\nPollardv...</td>\n",
       "    </tr>\n",
       "  </tbody>\n",
       "</table>\n",
       "</div>"
      ],
      "text/plain": [
       "        id supreme_court_db_id plain_text  \\\n",
       "0  2381753                None              \n",
       "1    84591                None              \n",
       "2    84590                None              \n",
       "3    84614                None              \n",
       "4    84615                None              \n",
       "\n",
       "                                                html  \\\n",
       "0                                                      \n",
       "1  <p class=\"case_cite\">1 U.S. 20</p>\\r\\n    <p c...   \n",
       "2  <p class=\"case_cite\">1 U.S. 18</p>\\r\\n    <p c...   \n",
       "3  <p class=\"case_cite\">1 U.S. 194</p>\\n    <p cl...   \n",
       "4  <p class=\"case_cite\">1 U.S. 210</p>\\r\\n    <p ...   \n",
       "\n",
       "                                 html_with_citations  label  \\\n",
       "0                                                      1700   \n",
       "1  <p class=\"case_cite\"><span class=\"citation no-...   1700   \n",
       "2  <p class=\"case_cite\"><span class=\"citation no-...   1700   \n",
       "3  <div>\\n<center><b><span class=\"citation no-lin...   1700   \n",
       "4  <div>\\n<center><b><span class=\"citation no-lin...   1700   \n",
       "\n",
       "                                        cleaned_html  \n",
       "0                                                     \n",
       "1  1 U.S. 20\\n1 Dall. 20\\n1 L.Ed. 19\\nANONYMOUS.\\...  \n",
       "2  1 U.S. 18\\n1 Dall. 18\\n1 L.Ed. 18\\nThe Lessee ...  \n",
       "3  1 U.S. 194\\n1 Dall. 194\\n1 L.Ed. 96\\nGerardv.L...  \n",
       "4  1 U.S. 210\\n1 Dall. 210\\n1 L.Ed. 104\\nPollardv...  "
      ]
     },
     "execution_count": 8,
     "metadata": {},
     "output_type": "execute_result"
    }
   ],
   "source": [
    "df.head()"
   ]
  },
  {
   "cell_type": "code",
   "execution_count": 9,
   "metadata": {},
   "outputs": [],
   "source": [
    "df['preprocessed_string'] = df['cleaned_html'].apply(remove_stopwords)"
   ]
  },
  {
   "cell_type": "code",
   "execution_count": 10,
   "metadata": {},
   "outputs": [],
   "source": [
    "df['preprocessed_string'] = df['cleaned_html'].apply(preprocess_string)"
   ]
  },
  {
   "cell_type": "code",
   "execution_count": 11,
   "metadata": {},
   "outputs": [],
   "source": [
    "all_words = df['preprocessed_string'].to_list()\n",
    "\n",
    "word2vec = Word2Vec(all_words, min_count=2)"
   ]
  },
  {
   "cell_type": "code",
   "execution_count": null,
   "metadata": {},
   "outputs": [],
   "source": [
    "word2vec.wv.save_word2vec_format('corpus_vectors.txt', binary=False, write_header=True)"
   ]
  },
  {
   "cell_type": "code",
   "execution_count": null,
   "metadata": {},
   "outputs": [],
   "source": []
  }
 ],
 "metadata": {
  "kernelspec": {
   "display_name": "Python 3.9.12 ('victorian_authorship_env')",
   "language": "python",
   "name": "python3"
  },
  "language_info": {
   "codemirror_mode": {
    "name": "ipython",
    "version": 3
   },
   "file_extension": ".py",
   "mimetype": "text/x-python",
   "name": "python",
   "nbconvert_exporter": "python",
   "pygments_lexer": "ipython3",
   "version": "3.9.12"
  },
  "orig_nbformat": 4,
  "vscode": {
   "interpreter": {
    "hash": "ef5d861bb1be136369da2a14d97f47e042662aed23f513481be9d838db3326bb"
   }
  }
 },
 "nbformat": 4,
 "nbformat_minor": 2
}
